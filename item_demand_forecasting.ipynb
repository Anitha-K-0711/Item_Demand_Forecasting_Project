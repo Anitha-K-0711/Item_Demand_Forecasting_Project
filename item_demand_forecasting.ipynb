{
  "nbformat": 4,
  "nbformat_minor": 0,
  "metadata": {
    "colab": {
      "provenance": []
    },
    "kernelspec": {
      "name": "python3",
      "display_name": "Python 3"
    },
    "language_info": {
      "name": "python"
    }
  },
  "cells": [
    {
      "cell_type": "markdown",
      "source": [
        "# Importing necessary libraries"
      ],
      "metadata": {
        "id": "WEQWvW3yB3xg"
      }
    },
    {
      "cell_type": "code",
      "source": [
        "!pip install statistics"
      ],
      "metadata": {
        "colab": {
          "base_uri": "https://localhost:8080/",
          "height": 294
        },
        "id": "lpFfSh5G6gY1",
        "outputId": "b514d6ff-7834-42de-df4c-73605190c824"
      },
      "execution_count": 1,
      "outputs": [
        {
          "output_type": "stream",
          "name": "stdout",
          "text": [
            "Collecting statistics\n",
            "  Downloading statistics-1.0.3.5.tar.gz (8.3 kB)\n",
            "  Preparing metadata (setup.py) ... \u001b[?25l\u001b[?25hdone\n",
            "Requirement already satisfied: docutils>=0.3 in /usr/local/lib/python3.10/dist-packages (from statistics) (0.16)\n",
            "Building wheels for collected packages: statistics\n",
            "  Building wheel for statistics (setup.py) ... \u001b[?25l\u001b[?25hdone\n",
            "  Created wheel for statistics: filename=statistics-1.0.3.5-py3-none-any.whl size=7438 sha256=4018cdcb7418dc9c4fb26d55850ffda9c68a410a39745a758738c914818118e3\n",
            "  Stored in directory: /root/.cache/pip/wheels/59/bd/aa/41ad56fbb723d36e457b5be74feb992cdac2855a6999ba34a1\n",
            "Successfully built statistics\n",
            "Installing collected packages: statistics\n",
            "Successfully installed statistics-1.0.3.5\n"
          ]
        },
        {
          "output_type": "display_data",
          "data": {
            "application/vnd.colab-display-data+json": {
              "pip_warning": {
                "packages": [
                  "statistics"
                ]
              }
            }
          },
          "metadata": {}
        }
      ]
    },
    {
      "cell_type": "code",
      "execution_count": 2,
      "metadata": {
        "id": "7FOqQz6q9NlS"
      },
      "outputs": [],
      "source": [
        "import pandas as pd\n",
        "import numpy as np\n",
        "import matplotlib.pyplot as plt\n",
        "import seaborn as sns\n",
        "import statistics as st"
      ]
    },
    {
      "cell_type": "markdown",
      "source": [
        "# Insights of the data"
      ],
      "metadata": {
        "id": "wlH-V9h6_DEK"
      }
    },
    {
      "cell_type": "code",
      "source": [
        "df = pd.read_csv('/content/train_2.csv')\n",
        "df"
      ],
      "metadata": {
        "colab": {
          "base_uri": "https://localhost:8080/",
          "height": 424
        },
        "id": "hcryAge29yw7",
        "outputId": "5f5437f9-b975-41c3-f217-b72fb0f64c58"
      },
      "execution_count": 3,
      "outputs": [
        {
          "output_type": "execute_result",
          "data": {
            "text/plain": [
              "              date  store  item  sales\n",
              "0       2013-01-01      1     1     13\n",
              "1       2013-01-02      1     1     11\n",
              "2       2013-01-03      1     1     14\n",
              "3       2013-01-04      1     1     13\n",
              "4       2013-01-05      1     1     10\n",
              "...            ...    ...   ...    ...\n",
              "912995  2017-12-27     10    50     63\n",
              "912996  2017-12-28     10    50     59\n",
              "912997  2017-12-29     10    50     74\n",
              "912998  2017-12-30     10    50     62\n",
              "912999  2017-12-31     10    50     82\n",
              "\n",
              "[913000 rows x 4 columns]"
            ],
            "text/html": [
              "\n",
              "\n",
              "  <div id=\"df-3a3c7815-aa81-4cfb-b9d6-c652bcd15e2f\">\n",
              "    <div class=\"colab-df-container\">\n",
              "      <div>\n",
              "<style scoped>\n",
              "    .dataframe tbody tr th:only-of-type {\n",
              "        vertical-align: middle;\n",
              "    }\n",
              "\n",
              "    .dataframe tbody tr th {\n",
              "        vertical-align: top;\n",
              "    }\n",
              "\n",
              "    .dataframe thead th {\n",
              "        text-align: right;\n",
              "    }\n",
              "</style>\n",
              "<table border=\"1\" class=\"dataframe\">\n",
              "  <thead>\n",
              "    <tr style=\"text-align: right;\">\n",
              "      <th></th>\n",
              "      <th>date</th>\n",
              "      <th>store</th>\n",
              "      <th>item</th>\n",
              "      <th>sales</th>\n",
              "    </tr>\n",
              "  </thead>\n",
              "  <tbody>\n",
              "    <tr>\n",
              "      <th>0</th>\n",
              "      <td>2013-01-01</td>\n",
              "      <td>1</td>\n",
              "      <td>1</td>\n",
              "      <td>13</td>\n",
              "    </tr>\n",
              "    <tr>\n",
              "      <th>1</th>\n",
              "      <td>2013-01-02</td>\n",
              "      <td>1</td>\n",
              "      <td>1</td>\n",
              "      <td>11</td>\n",
              "    </tr>\n",
              "    <tr>\n",
              "      <th>2</th>\n",
              "      <td>2013-01-03</td>\n",
              "      <td>1</td>\n",
              "      <td>1</td>\n",
              "      <td>14</td>\n",
              "    </tr>\n",
              "    <tr>\n",
              "      <th>3</th>\n",
              "      <td>2013-01-04</td>\n",
              "      <td>1</td>\n",
              "      <td>1</td>\n",
              "      <td>13</td>\n",
              "    </tr>\n",
              "    <tr>\n",
              "      <th>4</th>\n",
              "      <td>2013-01-05</td>\n",
              "      <td>1</td>\n",
              "      <td>1</td>\n",
              "      <td>10</td>\n",
              "    </tr>\n",
              "    <tr>\n",
              "      <th>...</th>\n",
              "      <td>...</td>\n",
              "      <td>...</td>\n",
              "      <td>...</td>\n",
              "      <td>...</td>\n",
              "    </tr>\n",
              "    <tr>\n",
              "      <th>912995</th>\n",
              "      <td>2017-12-27</td>\n",
              "      <td>10</td>\n",
              "      <td>50</td>\n",
              "      <td>63</td>\n",
              "    </tr>\n",
              "    <tr>\n",
              "      <th>912996</th>\n",
              "      <td>2017-12-28</td>\n",
              "      <td>10</td>\n",
              "      <td>50</td>\n",
              "      <td>59</td>\n",
              "    </tr>\n",
              "    <tr>\n",
              "      <th>912997</th>\n",
              "      <td>2017-12-29</td>\n",
              "      <td>10</td>\n",
              "      <td>50</td>\n",
              "      <td>74</td>\n",
              "    </tr>\n",
              "    <tr>\n",
              "      <th>912998</th>\n",
              "      <td>2017-12-30</td>\n",
              "      <td>10</td>\n",
              "      <td>50</td>\n",
              "      <td>62</td>\n",
              "    </tr>\n",
              "    <tr>\n",
              "      <th>912999</th>\n",
              "      <td>2017-12-31</td>\n",
              "      <td>10</td>\n",
              "      <td>50</td>\n",
              "      <td>82</td>\n",
              "    </tr>\n",
              "  </tbody>\n",
              "</table>\n",
              "<p>913000 rows × 4 columns</p>\n",
              "</div>\n",
              "      <button class=\"colab-df-convert\" onclick=\"convertToInteractive('df-3a3c7815-aa81-4cfb-b9d6-c652bcd15e2f')\"\n",
              "              title=\"Convert this dataframe to an interactive table.\"\n",
              "              style=\"display:none;\">\n",
              "\n",
              "  <svg xmlns=\"http://www.w3.org/2000/svg\" height=\"24px\"viewBox=\"0 0 24 24\"\n",
              "       width=\"24px\">\n",
              "    <path d=\"M0 0h24v24H0V0z\" fill=\"none\"/>\n",
              "    <path d=\"M18.56 5.44l.94 2.06.94-2.06 2.06-.94-2.06-.94-.94-2.06-.94 2.06-2.06.94zm-11 1L8.5 8.5l.94-2.06 2.06-.94-2.06-.94L8.5 2.5l-.94 2.06-2.06.94zm10 10l.94 2.06.94-2.06 2.06-.94-2.06-.94-.94-2.06-.94 2.06-2.06.94z\"/><path d=\"M17.41 7.96l-1.37-1.37c-.4-.4-.92-.59-1.43-.59-.52 0-1.04.2-1.43.59L10.3 9.45l-7.72 7.72c-.78.78-.78 2.05 0 2.83L4 21.41c.39.39.9.59 1.41.59.51 0 1.02-.2 1.41-.59l7.78-7.78 2.81-2.81c.8-.78.8-2.07 0-2.86zM5.41 20L4 18.59l7.72-7.72 1.47 1.35L5.41 20z\"/>\n",
              "  </svg>\n",
              "      </button>\n",
              "\n",
              "\n",
              "\n",
              "    <div id=\"df-4508429d-2d1e-4f26-8b32-cf9a21a76ce7\">\n",
              "      <button class=\"colab-df-quickchart\" onclick=\"quickchart('df-4508429d-2d1e-4f26-8b32-cf9a21a76ce7')\"\n",
              "              title=\"Suggest charts.\"\n",
              "              style=\"display:none;\">\n",
              "\n",
              "<svg xmlns=\"http://www.w3.org/2000/svg\" height=\"24px\"viewBox=\"0 0 24 24\"\n",
              "     width=\"24px\">\n",
              "    <g>\n",
              "        <path d=\"M19 3H5c-1.1 0-2 .9-2 2v14c0 1.1.9 2 2 2h14c1.1 0 2-.9 2-2V5c0-1.1-.9-2-2-2zM9 17H7v-7h2v7zm4 0h-2V7h2v10zm4 0h-2v-4h2v4z\"/>\n",
              "    </g>\n",
              "</svg>\n",
              "      </button>\n",
              "    </div>\n",
              "\n",
              "<style>\n",
              "  .colab-df-quickchart {\n",
              "    background-color: #E8F0FE;\n",
              "    border: none;\n",
              "    border-radius: 50%;\n",
              "    cursor: pointer;\n",
              "    display: none;\n",
              "    fill: #1967D2;\n",
              "    height: 32px;\n",
              "    padding: 0 0 0 0;\n",
              "    width: 32px;\n",
              "  }\n",
              "\n",
              "  .colab-df-quickchart:hover {\n",
              "    background-color: #E2EBFA;\n",
              "    box-shadow: 0px 1px 2px rgba(60, 64, 67, 0.3), 0px 1px 3px 1px rgba(60, 64, 67, 0.15);\n",
              "    fill: #174EA6;\n",
              "  }\n",
              "\n",
              "  [theme=dark] .colab-df-quickchart {\n",
              "    background-color: #3B4455;\n",
              "    fill: #D2E3FC;\n",
              "  }\n",
              "\n",
              "  [theme=dark] .colab-df-quickchart:hover {\n",
              "    background-color: #434B5C;\n",
              "    box-shadow: 0px 1px 3px 1px rgba(0, 0, 0, 0.15);\n",
              "    filter: drop-shadow(0px 1px 2px rgba(0, 0, 0, 0.3));\n",
              "    fill: #FFFFFF;\n",
              "  }\n",
              "</style>\n",
              "\n",
              "    <script>\n",
              "      async function quickchart(key) {\n",
              "        const containerElement = document.querySelector('#' + key);\n",
              "        const charts = await google.colab.kernel.invokeFunction(\n",
              "            'suggestCharts', [key], {});\n",
              "      }\n",
              "    </script>\n",
              "\n",
              "      <script>\n",
              "\n",
              "function displayQuickchartButton(domScope) {\n",
              "  let quickchartButtonEl =\n",
              "    domScope.querySelector('#df-4508429d-2d1e-4f26-8b32-cf9a21a76ce7 button.colab-df-quickchart');\n",
              "  quickchartButtonEl.style.display =\n",
              "    google.colab.kernel.accessAllowed ? 'block' : 'none';\n",
              "}\n",
              "\n",
              "        displayQuickchartButton(document);\n",
              "      </script>\n",
              "      <style>\n",
              "    .colab-df-container {\n",
              "      display:flex;\n",
              "      flex-wrap:wrap;\n",
              "      gap: 12px;\n",
              "    }\n",
              "\n",
              "    .colab-df-convert {\n",
              "      background-color: #E8F0FE;\n",
              "      border: none;\n",
              "      border-radius: 50%;\n",
              "      cursor: pointer;\n",
              "      display: none;\n",
              "      fill: #1967D2;\n",
              "      height: 32px;\n",
              "      padding: 0 0 0 0;\n",
              "      width: 32px;\n",
              "    }\n",
              "\n",
              "    .colab-df-convert:hover {\n",
              "      background-color: #E2EBFA;\n",
              "      box-shadow: 0px 1px 2px rgba(60, 64, 67, 0.3), 0px 1px 3px 1px rgba(60, 64, 67, 0.15);\n",
              "      fill: #174EA6;\n",
              "    }\n",
              "\n",
              "    [theme=dark] .colab-df-convert {\n",
              "      background-color: #3B4455;\n",
              "      fill: #D2E3FC;\n",
              "    }\n",
              "\n",
              "    [theme=dark] .colab-df-convert:hover {\n",
              "      background-color: #434B5C;\n",
              "      box-shadow: 0px 1px 3px 1px rgba(0, 0, 0, 0.15);\n",
              "      filter: drop-shadow(0px 1px 2px rgba(0, 0, 0, 0.3));\n",
              "      fill: #FFFFFF;\n",
              "    }\n",
              "  </style>\n",
              "\n",
              "      <script>\n",
              "        const buttonEl =\n",
              "          document.querySelector('#df-3a3c7815-aa81-4cfb-b9d6-c652bcd15e2f button.colab-df-convert');\n",
              "        buttonEl.style.display =\n",
              "          google.colab.kernel.accessAllowed ? 'block' : 'none';\n",
              "\n",
              "        async function convertToInteractive(key) {\n",
              "          const element = document.querySelector('#df-3a3c7815-aa81-4cfb-b9d6-c652bcd15e2f');\n",
              "          const dataTable =\n",
              "            await google.colab.kernel.invokeFunction('convertToInteractive',\n",
              "                                                     [key], {});\n",
              "          if (!dataTable) return;\n",
              "\n",
              "          const docLinkHtml = 'Like what you see? Visit the ' +\n",
              "            '<a target=\"_blank\" href=https://colab.research.google.com/notebooks/data_table.ipynb>data table notebook</a>'\n",
              "            + ' to learn more about interactive tables.';\n",
              "          element.innerHTML = '';\n",
              "          dataTable['output_type'] = 'display_data';\n",
              "          await google.colab.output.renderOutput(dataTable, element);\n",
              "          const docLink = document.createElement('div');\n",
              "          docLink.innerHTML = docLinkHtml;\n",
              "          element.appendChild(docLink);\n",
              "        }\n",
              "      </script>\n",
              "    </div>\n",
              "  </div>\n"
            ]
          },
          "metadata": {},
          "execution_count": 3
        }
      ]
    },
    {
      "cell_type": "markdown",
      "source": [
        "# Insights of the data\n",
        "\n",
        "### Features\n",
        "\n",
        "Date - Date in daily basis from 2013 to 2016. Date_time series feature\n",
        "\n",
        "store - The stores from 1 to 10. Continuous feature\n",
        "\n",
        "Item - The items sold in the stores named between 1 to 50. Continuous Feature\n",
        "\n",
        "### Target\n",
        "\n",
        "Sales - The number of items sold in each store on that particular day. Continuous Feature. This is not the target variable.\n",
        "\n",
        "The cumulative sales of each item through a 3 month rolling window is the target variable\n",
        "\n"
      ],
      "metadata": {
        "id": "XUpTIt_2BwbW"
      }
    },
    {
      "cell_type": "markdown",
      "source": [
        "# Generic Cleaning"
      ],
      "metadata": {
        "id": "fzJpcNx7DoVM"
      }
    },
    {
      "cell_type": "code",
      "source": [
        "df.shape"
      ],
      "metadata": {
        "colab": {
          "base_uri": "https://localhost:8080/"
        },
        "id": "wr8RH8GyBfET",
        "outputId": "d847c392-22ea-4511-af2b-a945e37fc49c"
      },
      "execution_count": 4,
      "outputs": [
        {
          "output_type": "execute_result",
          "data": {
            "text/plain": [
              "(913000, 4)"
            ]
          },
          "metadata": {},
          "execution_count": 4
        }
      ]
    },
    {
      "cell_type": "code",
      "source": [
        "df.columns"
      ],
      "metadata": {
        "colab": {
          "base_uri": "https://localhost:8080/"
        },
        "id": "dvJ-yOnwDsU_",
        "outputId": "be362bfd-8340-456d-96b4-f9a533050b33"
      },
      "execution_count": 5,
      "outputs": [
        {
          "output_type": "execute_result",
          "data": {
            "text/plain": [
              "Index(['date', 'store', 'item', 'sales'], dtype='object')"
            ]
          },
          "metadata": {},
          "execution_count": 5
        }
      ]
    },
    {
      "cell_type": "code",
      "source": [
        "df.isnull().sum()"
      ],
      "metadata": {
        "colab": {
          "base_uri": "https://localhost:8080/"
        },
        "id": "TbHyDR5bDuXO",
        "outputId": "6d1b2b5e-9de9-4f7f-e9c9-e0eba30c0fd2"
      },
      "execution_count": 6,
      "outputs": [
        {
          "output_type": "execute_result",
          "data": {
            "text/plain": [
              "date     0\n",
              "store    0\n",
              "item     0\n",
              "sales    0\n",
              "dtype: int64"
            ]
          },
          "metadata": {},
          "execution_count": 6
        }
      ]
    },
    {
      "cell_type": "code",
      "source": [
        "df.dtypes"
      ],
      "metadata": {
        "colab": {
          "base_uri": "https://localhost:8080/"
        },
        "id": "snqySXXXDxQF",
        "outputId": "3e49e831-c7fb-483a-9e70-352d006a2acf"
      },
      "execution_count": 7,
      "outputs": [
        {
          "output_type": "execute_result",
          "data": {
            "text/plain": [
              "date     object\n",
              "store     int64\n",
              "item      int64\n",
              "sales     int64\n",
              "dtype: object"
            ]
          },
          "metadata": {},
          "execution_count": 7
        }
      ]
    },
    {
      "cell_type": "code",
      "source": [
        "# The date column is in the form of strings.\n",
        "# Converting it to date_time series\n",
        "df['date'] = pd.to_datetime(df['date'])"
      ],
      "metadata": {
        "id": "lAsL4UmxD0e0"
      },
      "execution_count": 8,
      "outputs": []
    },
    {
      "cell_type": "code",
      "source": [
        "df = df.drop_duplicates()"
      ],
      "metadata": {
        "id": "N3SdjrXMFVrK"
      },
      "execution_count": 9,
      "outputs": []
    },
    {
      "cell_type": "code",
      "source": [
        "df = df.groupby(['item','date'], as_index=False)['sales'].agg({'sales':'sum'})"
      ],
      "metadata": {
        "id": "F8lLjlEnFuRk"
      },
      "execution_count": 10,
      "outputs": []
    },
    {
      "cell_type": "code",
      "source": [
        "df"
      ],
      "metadata": {
        "colab": {
          "base_uri": "https://localhost:8080/",
          "height": 424
        },
        "id": "kSow-Wm5FuUH",
        "outputId": "514ef030-8bc8-4fa0-bb87-eef7a386396d"
      },
      "execution_count": 11,
      "outputs": [
        {
          "output_type": "execute_result",
          "data": {
            "text/plain": [
              "       item       date  sales\n",
              "0         1 2013-01-01    133\n",
              "1         1 2013-01-02     99\n",
              "2         1 2013-01-03    127\n",
              "3         1 2013-01-04    145\n",
              "4         1 2013-01-05    149\n",
              "...     ...        ...    ...\n",
              "91295    50 2017-12-27    511\n",
              "91296    50 2017-12-28    587\n",
              "91297    50 2017-12-29    596\n",
              "91298    50 2017-12-30    612\n",
              "91299    50 2017-12-31    626\n",
              "\n",
              "[91300 rows x 3 columns]"
            ],
            "text/html": [
              "\n",
              "\n",
              "  <div id=\"df-4cc276cc-be5b-4eb9-bed8-4010abfacb42\">\n",
              "    <div class=\"colab-df-container\">\n",
              "      <div>\n",
              "<style scoped>\n",
              "    .dataframe tbody tr th:only-of-type {\n",
              "        vertical-align: middle;\n",
              "    }\n",
              "\n",
              "    .dataframe tbody tr th {\n",
              "        vertical-align: top;\n",
              "    }\n",
              "\n",
              "    .dataframe thead th {\n",
              "        text-align: right;\n",
              "    }\n",
              "</style>\n",
              "<table border=\"1\" class=\"dataframe\">\n",
              "  <thead>\n",
              "    <tr style=\"text-align: right;\">\n",
              "      <th></th>\n",
              "      <th>item</th>\n",
              "      <th>date</th>\n",
              "      <th>sales</th>\n",
              "    </tr>\n",
              "  </thead>\n",
              "  <tbody>\n",
              "    <tr>\n",
              "      <th>0</th>\n",
              "      <td>1</td>\n",
              "      <td>2013-01-01</td>\n",
              "      <td>133</td>\n",
              "    </tr>\n",
              "    <tr>\n",
              "      <th>1</th>\n",
              "      <td>1</td>\n",
              "      <td>2013-01-02</td>\n",
              "      <td>99</td>\n",
              "    </tr>\n",
              "    <tr>\n",
              "      <th>2</th>\n",
              "      <td>1</td>\n",
              "      <td>2013-01-03</td>\n",
              "      <td>127</td>\n",
              "    </tr>\n",
              "    <tr>\n",
              "      <th>3</th>\n",
              "      <td>1</td>\n",
              "      <td>2013-01-04</td>\n",
              "      <td>145</td>\n",
              "    </tr>\n",
              "    <tr>\n",
              "      <th>4</th>\n",
              "      <td>1</td>\n",
              "      <td>2013-01-05</td>\n",
              "      <td>149</td>\n",
              "    </tr>\n",
              "    <tr>\n",
              "      <th>...</th>\n",
              "      <td>...</td>\n",
              "      <td>...</td>\n",
              "      <td>...</td>\n",
              "    </tr>\n",
              "    <tr>\n",
              "      <th>91295</th>\n",
              "      <td>50</td>\n",
              "      <td>2017-12-27</td>\n",
              "      <td>511</td>\n",
              "    </tr>\n",
              "    <tr>\n",
              "      <th>91296</th>\n",
              "      <td>50</td>\n",
              "      <td>2017-12-28</td>\n",
              "      <td>587</td>\n",
              "    </tr>\n",
              "    <tr>\n",
              "      <th>91297</th>\n",
              "      <td>50</td>\n",
              "      <td>2017-12-29</td>\n",
              "      <td>596</td>\n",
              "    </tr>\n",
              "    <tr>\n",
              "      <th>91298</th>\n",
              "      <td>50</td>\n",
              "      <td>2017-12-30</td>\n",
              "      <td>612</td>\n",
              "    </tr>\n",
              "    <tr>\n",
              "      <th>91299</th>\n",
              "      <td>50</td>\n",
              "      <td>2017-12-31</td>\n",
              "      <td>626</td>\n",
              "    </tr>\n",
              "  </tbody>\n",
              "</table>\n",
              "<p>91300 rows × 3 columns</p>\n",
              "</div>\n",
              "      <button class=\"colab-df-convert\" onclick=\"convertToInteractive('df-4cc276cc-be5b-4eb9-bed8-4010abfacb42')\"\n",
              "              title=\"Convert this dataframe to an interactive table.\"\n",
              "              style=\"display:none;\">\n",
              "\n",
              "  <svg xmlns=\"http://www.w3.org/2000/svg\" height=\"24px\"viewBox=\"0 0 24 24\"\n",
              "       width=\"24px\">\n",
              "    <path d=\"M0 0h24v24H0V0z\" fill=\"none\"/>\n",
              "    <path d=\"M18.56 5.44l.94 2.06.94-2.06 2.06-.94-2.06-.94-.94-2.06-.94 2.06-2.06.94zm-11 1L8.5 8.5l.94-2.06 2.06-.94-2.06-.94L8.5 2.5l-.94 2.06-2.06.94zm10 10l.94 2.06.94-2.06 2.06-.94-2.06-.94-.94-2.06-.94 2.06-2.06.94z\"/><path d=\"M17.41 7.96l-1.37-1.37c-.4-.4-.92-.59-1.43-.59-.52 0-1.04.2-1.43.59L10.3 9.45l-7.72 7.72c-.78.78-.78 2.05 0 2.83L4 21.41c.39.39.9.59 1.41.59.51 0 1.02-.2 1.41-.59l7.78-7.78 2.81-2.81c.8-.78.8-2.07 0-2.86zM5.41 20L4 18.59l7.72-7.72 1.47 1.35L5.41 20z\"/>\n",
              "  </svg>\n",
              "      </button>\n",
              "\n",
              "\n",
              "\n",
              "    <div id=\"df-533d3fa2-e698-4bd3-b996-d1e65ab97502\">\n",
              "      <button class=\"colab-df-quickchart\" onclick=\"quickchart('df-533d3fa2-e698-4bd3-b996-d1e65ab97502')\"\n",
              "              title=\"Suggest charts.\"\n",
              "              style=\"display:none;\">\n",
              "\n",
              "<svg xmlns=\"http://www.w3.org/2000/svg\" height=\"24px\"viewBox=\"0 0 24 24\"\n",
              "     width=\"24px\">\n",
              "    <g>\n",
              "        <path d=\"M19 3H5c-1.1 0-2 .9-2 2v14c0 1.1.9 2 2 2h14c1.1 0 2-.9 2-2V5c0-1.1-.9-2-2-2zM9 17H7v-7h2v7zm4 0h-2V7h2v10zm4 0h-2v-4h2v4z\"/>\n",
              "    </g>\n",
              "</svg>\n",
              "      </button>\n",
              "    </div>\n",
              "\n",
              "<style>\n",
              "  .colab-df-quickchart {\n",
              "    background-color: #E8F0FE;\n",
              "    border: none;\n",
              "    border-radius: 50%;\n",
              "    cursor: pointer;\n",
              "    display: none;\n",
              "    fill: #1967D2;\n",
              "    height: 32px;\n",
              "    padding: 0 0 0 0;\n",
              "    width: 32px;\n",
              "  }\n",
              "\n",
              "  .colab-df-quickchart:hover {\n",
              "    background-color: #E2EBFA;\n",
              "    box-shadow: 0px 1px 2px rgba(60, 64, 67, 0.3), 0px 1px 3px 1px rgba(60, 64, 67, 0.15);\n",
              "    fill: #174EA6;\n",
              "  }\n",
              "\n",
              "  [theme=dark] .colab-df-quickchart {\n",
              "    background-color: #3B4455;\n",
              "    fill: #D2E3FC;\n",
              "  }\n",
              "\n",
              "  [theme=dark] .colab-df-quickchart:hover {\n",
              "    background-color: #434B5C;\n",
              "    box-shadow: 0px 1px 3px 1px rgba(0, 0, 0, 0.15);\n",
              "    filter: drop-shadow(0px 1px 2px rgba(0, 0, 0, 0.3));\n",
              "    fill: #FFFFFF;\n",
              "  }\n",
              "</style>\n",
              "\n",
              "    <script>\n",
              "      async function quickchart(key) {\n",
              "        const containerElement = document.querySelector('#' + key);\n",
              "        const charts = await google.colab.kernel.invokeFunction(\n",
              "            'suggestCharts', [key], {});\n",
              "      }\n",
              "    </script>\n",
              "\n",
              "      <script>\n",
              "\n",
              "function displayQuickchartButton(domScope) {\n",
              "  let quickchartButtonEl =\n",
              "    domScope.querySelector('#df-533d3fa2-e698-4bd3-b996-d1e65ab97502 button.colab-df-quickchart');\n",
              "  quickchartButtonEl.style.display =\n",
              "    google.colab.kernel.accessAllowed ? 'block' : 'none';\n",
              "}\n",
              "\n",
              "        displayQuickchartButton(document);\n",
              "      </script>\n",
              "      <style>\n",
              "    .colab-df-container {\n",
              "      display:flex;\n",
              "      flex-wrap:wrap;\n",
              "      gap: 12px;\n",
              "    }\n",
              "\n",
              "    .colab-df-convert {\n",
              "      background-color: #E8F0FE;\n",
              "      border: none;\n",
              "      border-radius: 50%;\n",
              "      cursor: pointer;\n",
              "      display: none;\n",
              "      fill: #1967D2;\n",
              "      height: 32px;\n",
              "      padding: 0 0 0 0;\n",
              "      width: 32px;\n",
              "    }\n",
              "\n",
              "    .colab-df-convert:hover {\n",
              "      background-color: #E2EBFA;\n",
              "      box-shadow: 0px 1px 2px rgba(60, 64, 67, 0.3), 0px 1px 3px 1px rgba(60, 64, 67, 0.15);\n",
              "      fill: #174EA6;\n",
              "    }\n",
              "\n",
              "    [theme=dark] .colab-df-convert {\n",
              "      background-color: #3B4455;\n",
              "      fill: #D2E3FC;\n",
              "    }\n",
              "\n",
              "    [theme=dark] .colab-df-convert:hover {\n",
              "      background-color: #434B5C;\n",
              "      box-shadow: 0px 1px 3px 1px rgba(0, 0, 0, 0.15);\n",
              "      filter: drop-shadow(0px 1px 2px rgba(0, 0, 0, 0.3));\n",
              "      fill: #FFFFFF;\n",
              "    }\n",
              "  </style>\n",
              "\n",
              "      <script>\n",
              "        const buttonEl =\n",
              "          document.querySelector('#df-4cc276cc-be5b-4eb9-bed8-4010abfacb42 button.colab-df-convert');\n",
              "        buttonEl.style.display =\n",
              "          google.colab.kernel.accessAllowed ? 'block' : 'none';\n",
              "\n",
              "        async function convertToInteractive(key) {\n",
              "          const element = document.querySelector('#df-4cc276cc-be5b-4eb9-bed8-4010abfacb42');\n",
              "          const dataTable =\n",
              "            await google.colab.kernel.invokeFunction('convertToInteractive',\n",
              "                                                     [key], {});\n",
              "          if (!dataTable) return;\n",
              "\n",
              "          const docLinkHtml = 'Like what you see? Visit the ' +\n",
              "            '<a target=\"_blank\" href=https://colab.research.google.com/notebooks/data_table.ipynb>data table notebook</a>'\n",
              "            + ' to learn more about interactive tables.';\n",
              "          element.innerHTML = '';\n",
              "          dataTable['output_type'] = 'display_data';\n",
              "          await google.colab.output.renderOutput(dataTable, element);\n",
              "          const docLink = document.createElement('div');\n",
              "          docLink.innerHTML = docLinkHtml;\n",
              "          element.appendChild(docLink);\n",
              "        }\n",
              "      </script>\n",
              "    </div>\n",
              "  </div>\n"
            ]
          },
          "metadata": {},
          "execution_count": 11
        }
      ]
    },
    {
      "cell_type": "markdown",
      "source": [
        "# Deriving new columns from 'date' column"
      ],
      "metadata": {
        "id": "LBjpyH0b_YsC"
      }
    },
    {
      "cell_type": "code",
      "source": [
        "df['year'] = df['date'].dt.year\n",
        "df['month'] = df['date'].dt.month\n",
        "df['day'] = df['date'].dt.day\n",
        "df['day_of_week'] = df['date'].dt.day_of_week\n",
        "df['day_of_year'] = df['date'].dt.day_of_year\n",
        "df['days_in_month'] = df['date'].dt.days_in_month\n",
        "df['quarter'] = df['date'].dt.quarter\n",
        "df['is_leap_year'] = df['date'].dt.is_leap_year\n",
        "df['is_month_start'] = df['date'].dt.is_month_start\n",
        "df['is_month_end'] = df['date'].dt.is_month_end\n",
        "df['is_quarter_start'] = df['date'].dt.is_quarter_start\n",
        "df['is_quarter_end'] = df['date'].dt.is_quarter_end\n",
        "df['is_year_start'] = df['date'].dt.is_year_start\n",
        "df['is_year_end'] = df['date'].dt.is_year_end"
      ],
      "metadata": {
        "id": "FgAoPPr6JNxh"
      },
      "execution_count": 12,
      "outputs": []
    },
    {
      "cell_type": "markdown",
      "source": [
        "# Converting all the columns to numerical columns"
      ],
      "metadata": {
        "id": "HuaP9tgp_f_l"
      }
    },
    {
      "cell_type": "code",
      "source": [
        "df['is_leap_year'] = df['is_leap_year'].astype(int)\n",
        "df['is_month_start'] = df['is_month_start'].astype(int)\n",
        "df['is_month_end'] = df['is_month_end'].astype(int)\n",
        "df['is_quarter_start'] = df['is_quarter_start'].astype(int)\n",
        "df['is_quarter_end'] = df['is_quarter_end'].astype(int)\n",
        "df['is_year_start'] = df['is_year_start'].astype(int)\n",
        "df['is_year_end'] = df['is_year_end'].astype(int)"
      ],
      "metadata": {
        "id": "RCr8BVneLjFR"
      },
      "execution_count": 13,
      "outputs": []
    },
    {
      "cell_type": "code",
      "source": [
        "df.dtypes"
      ],
      "metadata": {
        "colab": {
          "base_uri": "https://localhost:8080/"
        },
        "id": "w6SC1dKUKlrz",
        "outputId": "e37b55f0-9143-4897-c2dd-6a607b66d67a"
      },
      "execution_count": 14,
      "outputs": [
        {
          "output_type": "execute_result",
          "data": {
            "text/plain": [
              "item                         int64\n",
              "date                datetime64[ns]\n",
              "sales                        int64\n",
              "year                         int64\n",
              "month                        int64\n",
              "day                          int64\n",
              "day_of_week                  int64\n",
              "day_of_year                  int64\n",
              "days_in_month                int64\n",
              "quarter                      int64\n",
              "is_leap_year                 int64\n",
              "is_month_start               int64\n",
              "is_month_end                 int64\n",
              "is_quarter_start             int64\n",
              "is_quarter_end               int64\n",
              "is_year_start                int64\n",
              "is_year_end                  int64\n",
              "dtype: object"
            ]
          },
          "metadata": {},
          "execution_count": 14
        }
      ]
    },
    {
      "cell_type": "code",
      "source": [
        "df.columns"
      ],
      "metadata": {
        "colab": {
          "base_uri": "https://localhost:8080/"
        },
        "id": "7tcnSjnmLS4V",
        "outputId": "99691d27-e17c-49fb-d11a-a31f24e636a9"
      },
      "execution_count": 15,
      "outputs": [
        {
          "output_type": "execute_result",
          "data": {
            "text/plain": [
              "Index(['item', 'date', 'sales', 'year', 'month', 'day', 'day_of_week',\n",
              "       'day_of_year', 'days_in_month', 'quarter', 'is_leap_year',\n",
              "       'is_month_start', 'is_month_end', 'is_quarter_start', 'is_quarter_end',\n",
              "       'is_year_start', 'is_year_end'],\n",
              "      dtype='object')"
            ]
          },
          "metadata": {},
          "execution_count": 15
        }
      ]
    },
    {
      "cell_type": "code",
      "source": [
        "df.shape"
      ],
      "metadata": {
        "colab": {
          "base_uri": "https://localhost:8080/"
        },
        "id": "P48ZcV97LcfI",
        "outputId": "53491537-5eea-4481-efe3-813a8688da5a"
      },
      "execution_count": 16,
      "outputs": [
        {
          "output_type": "execute_result",
          "data": {
            "text/plain": [
              "(91300, 17)"
            ]
          },
          "metadata": {},
          "execution_count": 16
        }
      ]
    },
    {
      "cell_type": "markdown",
      "source": [
        "# Preparing 90 days rolling window data"
      ],
      "metadata": {
        "id": "Lsy353tq_sJ0"
      }
    },
    {
      "cell_type": "code",
      "source": [
        "df1 = df.copy()"
      ],
      "metadata": {
        "id": "WSv7ajH6Liho"
      },
      "execution_count": 17,
      "outputs": []
    },
    {
      "cell_type": "code",
      "source": [
        "n = len(df1['item'].unique())\n",
        "n"
      ],
      "metadata": {
        "colab": {
          "base_uri": "https://localhost:8080/"
        },
        "id": "ADtu3eNnQsDj",
        "outputId": "ee562bb7-1bec-4bf4-afec-cec447198504"
      },
      "execution_count": 18,
      "outputs": [
        {
          "output_type": "execute_result",
          "data": {
            "text/plain": [
              "50"
            ]
          },
          "metadata": {},
          "execution_count": 18
        }
      ]
    },
    {
      "cell_type": "code",
      "source": [
        "for i in range(1,n+1):\n",
        "  df1.loc[df1['item'].isin([i]), 'target'] = df1.loc[df1['item'].isin([i]),'sales'].rolling(90, center=True, min_periods=1).sum().fillna(0)"
      ],
      "metadata": {
        "id": "8HCbFYO9SMWi"
      },
      "execution_count": 19,
      "outputs": []
    },
    {
      "cell_type": "code",
      "source": [
        "df1.isnull().sum()"
      ],
      "metadata": {
        "colab": {
          "base_uri": "https://localhost:8080/"
        },
        "id": "EEUReHX18KYn",
        "outputId": "8d2bc77c-8686-44b7-eb73-daeb00bef746"
      },
      "execution_count": 20,
      "outputs": [
        {
          "output_type": "execute_result",
          "data": {
            "text/plain": [
              "item                0\n",
              "date                0\n",
              "sales               0\n",
              "year                0\n",
              "month               0\n",
              "day                 0\n",
              "day_of_week         0\n",
              "day_of_year         0\n",
              "days_in_month       0\n",
              "quarter             0\n",
              "is_leap_year        0\n",
              "is_month_start      0\n",
              "is_month_end        0\n",
              "is_quarter_start    0\n",
              "is_quarter_end      0\n",
              "is_year_start       0\n",
              "is_year_end         0\n",
              "target              0\n",
              "dtype: int64"
            ]
          },
          "metadata": {},
          "execution_count": 20
        }
      ]
    },
    {
      "cell_type": "code",
      "source": [
        "df1.dtypes"
      ],
      "metadata": {
        "colab": {
          "base_uri": "https://localhost:8080/"
        },
        "id": "Sg-EsO-p8KbV",
        "outputId": "6f5cea44-968b-47a6-cd16-9c0a4f69c61a"
      },
      "execution_count": 21,
      "outputs": [
        {
          "output_type": "execute_result",
          "data": {
            "text/plain": [
              "item                         int64\n",
              "date                datetime64[ns]\n",
              "sales                        int64\n",
              "year                         int64\n",
              "month                        int64\n",
              "day                          int64\n",
              "day_of_week                  int64\n",
              "day_of_year                  int64\n",
              "days_in_month                int64\n",
              "quarter                      int64\n",
              "is_leap_year                 int64\n",
              "is_month_start               int64\n",
              "is_month_end                 int64\n",
              "is_quarter_start             int64\n",
              "is_quarter_end               int64\n",
              "is_year_start                int64\n",
              "is_year_end                  int64\n",
              "target                     float64\n",
              "dtype: object"
            ]
          },
          "metadata": {},
          "execution_count": 21
        }
      ]
    },
    {
      "cell_type": "code",
      "source": [
        "df1['target'] = df1['target'].astype(int)"
      ],
      "metadata": {
        "id": "1HwLRlOJ8Kea"
      },
      "execution_count": 22,
      "outputs": []
    },
    {
      "cell_type": "code",
      "source": [
        "del df1['sales']"
      ],
      "metadata": {
        "id": "dUFYICr2-jOy"
      },
      "execution_count": 23,
      "outputs": []
    },
    {
      "cell_type": "markdown",
      "source": [
        "# Distriution of target"
      ],
      "metadata": {
        "id": "n7pvvi-T_5Qa"
      }
    },
    {
      "cell_type": "code",
      "source": [
        "sns.distplot(df1['target'])\n",
        "plt.title('Distribution of target value')"
      ],
      "metadata": {
        "colab": {
          "base_uri": "https://localhost:8080/",
          "height": 680
        },
        "id": "MGVM7NMv-jTn",
        "outputId": "63e0f59a-533b-4ee9-b15c-7d9fc5f84c11"
      },
      "execution_count": 24,
      "outputs": [
        {
          "output_type": "stream",
          "name": "stderr",
          "text": [
            "<ipython-input-24-df04d315dc2a>:1: UserWarning: \n",
            "\n",
            "`distplot` is a deprecated function and will be removed in seaborn v0.14.0.\n",
            "\n",
            "Please adapt your code to use either `displot` (a figure-level function with\n",
            "similar flexibility) or `histplot` (an axes-level function for histograms).\n",
            "\n",
            "For a guide to updating your code to use the new functions, please see\n",
            "https://gist.github.com/mwaskom/de44147ed2974457ad6372750bbe5751\n",
            "\n",
            "  sns.distplot(df1['target'])\n"
          ]
        },
        {
          "output_type": "execute_result",
          "data": {
            "text/plain": [
              "Text(0.5, 1.0, 'Distribution of target value')"
            ]
          },
          "metadata": {},
          "execution_count": 24
        },
        {
          "output_type": "display_data",
          "data": {
            "text/plain": [
              "<Figure size 640x480 with 1 Axes>"
            ],
            "image/png": "[encoded data removed]"
          },
          "metadata": {}
        }
      ]
    },
    {
      "cell_type": "code",
      "source": [
        "sns.boxenplot(df1['target'])\n",
        "plt.title('Distribution of target value')\n",
        "\n",
        "# From the Distribution of target values, it is seen that, the larger number of values are in the range 25000 to 60000 and median is around 45000"
      ],
      "metadata": {
        "colab": {
          "base_uri": "https://localhost:8080/",
          "height": 469
        },
        "id": "0WW_TPLW-jWK",
        "outputId": "630d1196-d8db-426c-be8c-13c6d7819e94"
      },
      "execution_count": 25,
      "outputs": [
        {
          "output_type": "execute_result",
          "data": {
            "text/plain": [
              "Text(0.5, 1.0, 'Distribution of target value')"
            ]
          },
          "metadata": {},
          "execution_count": 25
        },
        {
          "output_type": "display_data",
          "data": {
            "text/plain": [
              "<Figure size 640x480 with 1 Axes>"
            ],
            "image/png": "[encoded data removed]"
          },
          "metadata": {}
        }
      ]
    },
    {
      "cell_type": "markdown",
      "source": [
        "# Feature v/s Target Plots"
      ],
      "metadata": {
        "id": "m6EM3OxeAC6f"
      }
    },
    {
      "cell_type": "code",
      "source": [
        "plt.figure(figsize=(14,4))\n",
        "df1.set_index('date')['target'].plot(kind='line')\n",
        "plt.ylabel('number of items sold in a 3 month rolling window')\n",
        "plt.title('Date v/s Target Plot')\n",
        "\n",
        "# with respect to date column, the target have slightly upward trending cyclic pattern"
      ],
      "metadata": {
        "colab": {
          "base_uri": "https://localhost:8080/",
          "height": 407
        },
        "id": "v7pNf9g8-jRF",
        "outputId": "2dff1e68-d3ce-41c2-b9c8-0d05f14089ce"
      },
      "execution_count": 26,
      "outputs": [
        {
          "output_type": "execute_result",
          "data": {
            "text/plain": [
              "Text(0.5, 1.0, 'Date v/s Target Plot')"
            ]
          },
          "metadata": {},
          "execution_count": 26
        },
        {
          "output_type": "display_data",
          "data": {
            "text/plain": [
              "<Figure size 1400x400 with 1 Axes>"
            ],
            "image/png": "[encoded data removed]"
          },
          "metadata": {}
        }
      ]
    },
    {
      "cell_type": "code",
      "source": [
        "df1.groupby(['year'])['target'].sum().plot(kind='bar')\n",
        "plt.ylabel('number of items sold in a 3 month rolling window')\n",
        "plt.title('Year v/s Target Plot')\n",
        "\n",
        "# Based on the result, The number of items sold is increasing linearly with increase in year"
      ],
      "metadata": {
        "colab": {
          "base_uri": "https://localhost:8080/",
          "height": 510
        },
        "id": "xeZqSIDG-jYr",
        "outputId": "7366acc0-009b-463e-8539-5df15721f587"
      },
      "execution_count": 27,
      "outputs": [
        {
          "output_type": "execute_result",
          "data": {
            "text/plain": [
              "Text(0.5, 1.0, 'Year v/s Target Plot')"
            ]
          },
          "metadata": {},
          "execution_count": 27
        },
        {
          "output_type": "display_data",
          "data": {
            "text/plain": [
              "<Figure size 640x480 with 1 Axes>"
            ],
            "image/png": "[encoded data removed]"
          },
          "metadata": {}
        }
      ]
    },
    {
      "cell_type": "code",
      "source": [
        "df1.groupby(['month'])['target'].sum().plot(kind='bar')\n",
        "plt.ylabel('number of items sold in a 3 month rolling window')\n",
        "plt.title('Month v/s Target Plot')\n",
        "\n",
        "# Based on the result, The number of items sold is very high in the months of May, June, July, August. And, it is lowest in the months of Jan, Feb and Dec"
      ],
      "metadata": {
        "colab": {
          "base_uri": "https://localhost:8080/",
          "height": 492
        },
        "id": "2ylxQYPN-jbR",
        "outputId": "7bb890b6-aa47-4e46-f60d-f95cb4fdaca7"
      },
      "execution_count": 28,
      "outputs": [
        {
          "output_type": "execute_result",
          "data": {
            "text/plain": [
              "Text(0.5, 1.0, 'Month v/s Target Plot')"
            ]
          },
          "metadata": {},
          "execution_count": 28
        },
        {
          "output_type": "display_data",
          "data": {
            "text/plain": [
              "<Figure size 640x480 with 1 Axes>"
            ],
            "image/png": "[encoded data removed]"
          },
          "metadata": {}
        }
      ]
    },
    {
      "cell_type": "code",
      "source": [
        "df1.groupby(['day_of_week'])['target'].sum().plot(kind='bar')\n",
        "plt.ylabel('number of items sold in a 3 month rolling window')\n",
        "plt.title('Day_of_week v/s Target Plot')\n",
        "\n",
        "# Based on the results, the number of items sold are approximately the same in all the days of the week"
      ],
      "metadata": {
        "colab": {
          "base_uri": "https://localhost:8080/",
          "height": 484
        },
        "id": "YRJIK6siIpPI",
        "outputId": "2bcf2a2c-c1fc-45bf-b311-16e8a4fab223"
      },
      "execution_count": 29,
      "outputs": [
        {
          "output_type": "execute_result",
          "data": {
            "text/plain": [
              "Text(0.5, 1.0, 'Day_of_week v/s Target Plot')"
            ]
          },
          "metadata": {},
          "execution_count": 29
        },
        {
          "output_type": "display_data",
          "data": {
            "text/plain": [
              "<Figure size 640x480 with 1 Axes>"
            ],
            "image/png": "[encoded data removed]"
          },
          "metadata": {}
        }
      ]
    },
    {
      "cell_type": "code",
      "source": [
        "df1.groupby(['quarter'])['target'].sum().plot(kind='bar')\n",
        "plt.ylabel('number of items sold in a 3 month rolling window')\n",
        "plt.title('Quarter v/s Target Plot')\n",
        "\n",
        "# The number of items sold are high in 2nd and 3rd quarter of each year than in the 1st and 4th quarter."
      ],
      "metadata": {
        "colab": {
          "base_uri": "https://localhost:8080/",
          "height": 484
        },
        "id": "XQoC40M4JCZ8",
        "outputId": "603387ba-9b2d-442e-c93e-458e96abb9d2"
      },
      "execution_count": 30,
      "outputs": [
        {
          "output_type": "execute_result",
          "data": {
            "text/plain": [
              "Text(0.5, 1.0, 'Quarter v/s Target Plot')"
            ]
          },
          "metadata": {},
          "execution_count": 30
        },
        {
          "output_type": "display_data",
          "data": {
            "text/plain": [
              "<Figure size 640x480 with 1 Axes>"
            ],
            "image/png": "[encoded data removed]"
          },
          "metadata": {}
        }
      ]
    },
    {
      "cell_type": "markdown",
      "source": [
        "# Splitting the data into train and test"
      ],
      "metadata": {
        "id": "hIa9E4KGAJ9p"
      }
    },
    {
      "cell_type": "code",
      "source": [
        "train_df1 = df1.loc[df1['year'].isin([2013,2014,2015,2016])].reset_index()\n",
        "train_df1.drop('index', axis=1, inplace=True)\n",
        "train_df1"
      ],
      "metadata": {
        "colab": {
          "base_uri": "https://localhost:8080/",
          "height": 661
        },
        "id": "xkSenBGKQz5v",
        "outputId": "9f64a605-f03c-4311-a251-53673769296b"
      },
      "execution_count": 31,
      "outputs": [
        {
          "output_type": "execute_result",
          "data": {
            "text/plain": [
              "       item       date  year  month  day  day_of_week  day_of_year  \\\n",
              "0         1 2013-01-01  2013      1    1            1            1   \n",
              "1         1 2013-01-02  2013      1    2            2            2   \n",
              "2         1 2013-01-03  2013      1    3            3            3   \n",
              "3         1 2013-01-04  2013      1    4            4            4   \n",
              "4         1 2013-01-05  2013      1    5            5            5   \n",
              "...     ...        ...   ...    ...  ...          ...          ...   \n",
              "73045    50 2016-12-27  2016     12   27            1          362   \n",
              "73046    50 2016-12-28  2016     12   28            2          363   \n",
              "73047    50 2016-12-29  2016     12   29            3          364   \n",
              "73048    50 2016-12-30  2016     12   30            4          365   \n",
              "73049    50 2016-12-31  2016     12   31            5          366   \n",
              "\n",
              "       days_in_month  quarter  is_leap_year  is_month_start  is_month_end  \\\n",
              "0                 31        1             0               1             0   \n",
              "1                 31        1             0               0             0   \n",
              "2                 31        1             0               0             0   \n",
              "3                 31        1             0               0             0   \n",
              "4                 31        1             0               0             0   \n",
              "...              ...      ...           ...             ...           ...   \n",
              "73045             31        4             1               0             0   \n",
              "73046             31        4             1               0             0   \n",
              "73047             31        4             1               0             0   \n",
              "73048             31        4             1               0             0   \n",
              "73049             31        4             1               0             1   \n",
              "\n",
              "       is_quarter_start  is_quarter_end  is_year_start  is_year_end  target  \n",
              "0                     1               0              1            0    5712  \n",
              "1                     0               0              0            0    5832  \n",
              "2                     0               0              0            0    5986  \n",
              "3                     0               0              0            0    6165  \n",
              "4                     0               0              0            0    6272  \n",
              "...                 ...             ...            ...          ...     ...  \n",
              "73045                 0               0              0            0   51590  \n",
              "73046                 0               0              0            0   51285  \n",
              "73047                 0               0              0            0   51021  \n",
              "73048                 0               0              0            0   51084  \n",
              "73049                 0               1              0            1   50824  \n",
              "\n",
              "[73050 rows x 17 columns]"
            ],
            "text/html": [
              "\n",
              "\n",
              "  <div id=\"df-36e7ebdb-f08f-4076-9af1-144343f7b7a2\">\n",
              "    <div class=\"colab-df-container\">\n",
              "      <div>\n",
              "<style scoped>\n",
              "    .dataframe tbody tr th:only-of-type {\n",
              "        vertical-align: middle;\n",
              "    }\n",
              "\n",
              "    .dataframe tbody tr th {\n",
              "        vertical-align: top;\n",
              "    }\n",
              "\n",
              "    .dataframe thead th {\n",
              "        text-align: right;\n",
              "    }\n",
              "</style>\n",
              "<table border=\"1\" class=\"dataframe\">\n",
              "  <thead>\n",
              "    <tr style=\"text-align: right;\">\n",
              "      <th></th>\n",
              "      <th>item</th>\n",
              "      <th>date</th>\n",
              "      <th>year</th>\n",
              "      <th>month</th>\n",
              "      <th>day</th>\n",
              "      <th>day_of_week</th>\n",
              "      <th>day_of_year</th>\n",
              "      <th>days_in_month</th>\n",
              "      <th>quarter</th>\n",
              "      <th>is_leap_year</th>\n",
              "      <th>is_month_start</th>\n",
              "      <th>is_month_end</th>\n",
              "      <th>is_quarter_start</th>\n",
              "      <th>is_quarter_end</th>\n",
              "      <th>is_year_start</th>\n",
              "      <th>is_year_end</th>\n",
              "      <th>target</th>\n",
              "    </tr>\n",
              "  </thead>\n",
              "  <tbody>\n",
              "    <tr>\n",
              "      <th>0</th>\n",
              "      <td>1</td>\n",
              "      <td>2013-01-01</td>\n",
              "      <td>2013</td>\n",
              "      <td>1</td>\n",
              "      <td>1</td>\n",
              "      <td>1</td>\n",
              "      <td>1</td>\n",
              "      <td>31</td>\n",
              "      <td>1</td>\n",
              "      <td>0</td>\n",
              "      <td>1</td>\n",
              "      <td>0</td>\n",
              "      <td>1</td>\n",
              "      <td>0</td>\n",
              "      <td>1</td>\n",
              "      <td>0</td>\n",
              "      <td>5712</td>\n",
              "    </tr>\n",
              "    <tr>\n",
              "      <th>1</th>\n",
              "      <td>1</td>\n",
              "      <td>2013-01-02</td>\n",
              "      <td>2013</td>\n",
              "      <td>1</td>\n",
              "      <td>2</td>\n",
              "      <td>2</td>\n",
              "      <td>2</td>\n",
              "      <td>31</td>\n",
              "      <td>1</td>\n",
              "      <td>0</td>\n",
              "      <td>0</td>\n",
              "      <td>0</td>\n",
              "      <td>0</td>\n",
              "      <td>0</td>\n",
              "      <td>0</td>\n",
              "      <td>0</td>\n",
              "      <td>5832</td>\n",
              "    </tr>\n",
              "    <tr>\n",
              "      <th>2</th>\n",
              "      <td>1</td>\n",
              "      <td>2013-01-03</td>\n",
              "      <td>2013</td>\n",
              "      <td>1</td>\n",
              "      <td>3</td>\n",
              "      <td>3</td>\n",
              "      <td>3</td>\n",
              "      <td>31</td>\n",
              "      <td>1</td>\n",
              "      <td>0</td>\n",
              "      <td>0</td>\n",
              "      <td>0</td>\n",
              "      <td>0</td>\n",
              "      <td>0</td>\n",
              "      <td>0</td>\n",
              "      <td>0</td>\n",
              "      <td>5986</td>\n",
              "    </tr>\n",
              "    <tr>\n",
              "      <th>3</th>\n",
              "      <td>1</td>\n",
              "      <td>2013-01-04</td>\n",
              "      <td>2013</td>\n",
              "      <td>1</td>\n",
              "      <td>4</td>\n",
              "      <td>4</td>\n",
              "      <td>4</td>\n",
              "      <td>31</td>\n",
              "      <td>1</td>\n",
              "      <td>0</td>\n",
              "      <td>0</td>\n",
              "      <td>0</td>\n",
              "      <td>0</td>\n",
              "      <td>0</td>\n",
              "      <td>0</td>\n",
              "      <td>0</td>\n",
              "      <td>6165</td>\n",
              "    </tr>\n",
              "    <tr>\n",
              "      <th>4</th>\n",
              "      <td>1</td>\n",
              "      <td>2013-01-05</td>\n",
              "      <td>2013</td>\n",
              "      <td>1</td>\n",
              "      <td>5</td>\n",
              "      <td>5</td>\n",
              "      <td>5</td>\n",
              "      <td>31</td>\n",
              "      <td>1</td>\n",
              "      <td>0</td>\n",
              "      <td>0</td>\n",
              "      <td>0</td>\n",
              "      <td>0</td>\n",
              "      <td>0</td>\n",
              "      <td>0</td>\n",
              "      <td>0</td>\n",
              "      <td>6272</td>\n",
              "    </tr>\n",
              "    <tr>\n",
              "      <th>...</th>\n",
              "      <td>...</td>\n",
              "      <td>...</td>\n",
              "      <td>...</td>\n",
              "      <td>...</td>\n",
              "      <td>...</td>\n",
              "      <td>...</td>\n",
              "      <td>...</td>\n",
              "      <td>...</td>\n",
              "      <td>...</td>\n",
              "      <td>...</td>\n",
              "      <td>...</td>\n",
              "      <td>...</td>\n",
              "      <td>...</td>\n",
              "      <td>...</td>\n",
              "      <td>...</td>\n",
              "      <td>...</td>\n",
              "      <td>...</td>\n",
              "    </tr>\n",
              "    <tr>\n",
              "      <th>73045</th>\n",
              "      <td>50</td>\n",
              "      <td>2016-12-27</td>\n",
              "      <td>2016</td>\n",
              "      <td>12</td>\n",
              "      <td>27</td>\n",
              "      <td>1</td>\n",
              "      <td>362</td>\n",
              "      <td>31</td>\n",
              "      <td>4</td>\n",
              "      <td>1</td>\n",
              "      <td>0</td>\n",
              "      <td>0</td>\n",
              "      <td>0</td>\n",
              "      <td>0</td>\n",
              "      <td>0</td>\n",
              "      <td>0</td>\n",
              "      <td>51590</td>\n",
              "    </tr>\n",
              "    <tr>\n",
              "      <th>73046</th>\n",
              "      <td>50</td>\n",
              "      <td>2016-12-28</td>\n",
              "      <td>2016</td>\n",
              "      <td>12</td>\n",
              "      <td>28</td>\n",
              "      <td>2</td>\n",
              "      <td>363</td>\n",
              "      <td>31</td>\n",
              "      <td>4</td>\n",
              "      <td>1</td>\n",
              "      <td>0</td>\n",
              "      <td>0</td>\n",
              "      <td>0</td>\n",
              "      <td>0</td>\n",
              "      <td>0</td>\n",
              "      <td>0</td>\n",
              "      <td>51285</td>\n",
              "    </tr>\n",
              "    <tr>\n",
              "      <th>73047</th>\n",
              "      <td>50</td>\n",
              "      <td>2016-12-29</td>\n",
              "      <td>2016</td>\n",
              "      <td>12</td>\n",
              "      <td>29</td>\n",
              "      <td>3</td>\n",
              "      <td>364</td>\n",
              "      <td>31</td>\n",
              "      <td>4</td>\n",
              "      <td>1</td>\n",
              "      <td>0</td>\n",
              "      <td>0</td>\n",
              "      <td>0</td>\n",
              "      <td>0</td>\n",
              "      <td>0</td>\n",
              "      <td>0</td>\n",
              "      <td>51021</td>\n",
              "    </tr>\n",
              "    <tr>\n",
              "      <th>73048</th>\n",
              "      <td>50</td>\n",
              "      <td>2016-12-30</td>\n",
              "      <td>2016</td>\n",
              "      <td>12</td>\n",
              "      <td>30</td>\n",
              "      <td>4</td>\n",
              "      <td>365</td>\n",
              "      <td>31</td>\n",
              "      <td>4</td>\n",
              "      <td>1</td>\n",
              "      <td>0</td>\n",
              "      <td>0</td>\n",
              "      <td>0</td>\n",
              "      <td>0</td>\n",
              "      <td>0</td>\n",
              "      <td>0</td>\n",
              "      <td>51084</td>\n",
              "    </tr>\n",
              "    <tr>\n",
              "      <th>73049</th>\n",
              "      <td>50</td>\n",
              "      <td>2016-12-31</td>\n",
              "      <td>2016</td>\n",
              "      <td>12</td>\n",
              "      <td>31</td>\n",
              "      <td>5</td>\n",
              "      <td>366</td>\n",
              "      <td>31</td>\n",
              "      <td>4</td>\n",
              "      <td>1</td>\n",
              "      <td>0</td>\n",
              "      <td>1</td>\n",
              "      <td>0</td>\n",
              "      <td>1</td>\n",
              "      <td>0</td>\n",
              "      <td>1</td>\n",
              "      <td>50824</td>\n",
              "    </tr>\n",
              "  </tbody>\n",
              "</table>\n",
              "<p>73050 rows × 17 columns</p>\n",
              "</div>\n",
              "      <button class=\"colab-df-convert\" onclick=\"convertToInteractive('df-36e7ebdb-f08f-4076-9af1-144343f7b7a2')\"\n",
              "              title=\"Convert this dataframe to an interactive table.\"\n",
              "              style=\"display:none;\">\n",
              "\n",
              "  <svg xmlns=\"http://www.w3.org/2000/svg\" height=\"24px\"viewBox=\"0 0 24 24\"\n",
              "       width=\"24px\">\n",
              "    <path d=\"M0 0h24v24H0V0z\" fill=\"none\"/>\n",
              "    <path d=\"M18.56 5.44l.94 2.06.94-2.06 2.06-.94-2.06-.94-.94-2.06-.94 2.06-2.06.94zm-11 1L8.5 8.5l.94-2.06 2.06-.94-2.06-.94L8.5 2.5l-.94 2.06-2.06.94zm10 10l.94 2.06.94-2.06 2.06-.94-2.06-.94-.94-2.06-.94 2.06-2.06.94z\"/><path d=\"M17.41 7.96l-1.37-1.37c-.4-.4-.92-.59-1.43-.59-.52 0-1.04.2-1.43.59L10.3 9.45l-7.72 7.72c-.78.78-.78 2.05 0 2.83L4 21.41c.39.39.9.59 1.41.59.51 0 1.02-.2 1.41-.59l7.78-7.78 2.81-2.81c.8-.78.8-2.07 0-2.86zM5.41 20L4 18.59l7.72-7.72 1.47 1.35L5.41 20z\"/>\n",
              "  </svg>\n",
              "      </button>\n",
              "\n",
              "\n",
              "\n",
              "    <div id=\"df-7a2f65e2-2a1a-4999-91f7-2bd9a09f8d5b\">\n",
              "      <button class=\"colab-df-quickchart\" onclick=\"quickchart('df-7a2f65e2-2a1a-4999-91f7-2bd9a09f8d5b')\"\n",
              "              title=\"Suggest charts.\"\n",
              "              style=\"display:none;\">\n",
              "\n",
              "<svg xmlns=\"http://www.w3.org/2000/svg\" height=\"24px\"viewBox=\"0 0 24 24\"\n",
              "     width=\"24px\">\n",
              "    <g>\n",
              "        <path d=\"M19 3H5c-1.1 0-2 .9-2 2v14c0 1.1.9 2 2 2h14c1.1 0 2-.9 2-2V5c0-1.1-.9-2-2-2zM9 17H7v-7h2v7zm4 0h-2V7h2v10zm4 0h-2v-4h2v4z\"/>\n",
              "    </g>\n",
              "</svg>\n",
              "      </button>\n",
              "    </div>\n",
              "\n",
              "<style>\n",
              "  .colab-df-quickchart {\n",
              "    background-color: #E8F0FE;\n",
              "    border: none;\n",
              "    border-radius: 50%;\n",
              "    cursor: pointer;\n",
              "    display: none;\n",
              "    fill: #1967D2;\n",
              "    height: 32px;\n",
              "    padding: 0 0 0 0;\n",
              "    width: 32px;\n",
              "  }\n",
              "\n",
              "  .colab-df-quickchart:hover {\n",
              "    background-color: #E2EBFA;\n",
              "    box-shadow: 0px 1px 2px rgba(60, 64, 67, 0.3), 0px 1px 3px 1px rgba(60, 64, 67, 0.15);\n",
              "    fill: #174EA6;\n",
              "  }\n",
              "\n",
              "  [theme=dark] .colab-df-quickchart {\n",
              "    background-color: #3B4455;\n",
              "    fill: #D2E3FC;\n",
              "  }\n",
              "\n",
              "  [theme=dark] .colab-df-quickchart:hover {\n",
              "    background-color: #434B5C;\n",
              "    box-shadow: 0px 1px 3px 1px rgba(0, 0, 0, 0.15);\n",
              "    filter: drop-shadow(0px 1px 2px rgba(0, 0, 0, 0.3));\n",
              "    fill: #FFFFFF;\n",
              "  }\n",
              "</style>\n",
              "\n",
              "    <script>\n",
              "      async function quickchart(key) {\n",
              "        const containerElement = document.querySelector('#' + key);\n",
              "        const charts = await google.colab.kernel.invokeFunction(\n",
              "            'suggestCharts', [key], {});\n",
              "      }\n",
              "    </script>\n",
              "\n",
              "      <script>\n",
              "\n",
              "function displayQuickchartButton(domScope) {\n",
              "  let quickchartButtonEl =\n",
              "    domScope.querySelector('#df-7a2f65e2-2a1a-4999-91f7-2bd9a09f8d5b button.colab-df-quickchart');\n",
              "  quickchartButtonEl.style.display =\n",
              "    google.colab.kernel.accessAllowed ? 'block' : 'none';\n",
              "}\n",
              "\n",
              "        displayQuickchartButton(document);\n",
              "      </script>\n",
              "      <style>\n",
              "    .colab-df-container {\n",
              "      display:flex;\n",
              "      flex-wrap:wrap;\n",
              "      gap: 12px;\n",
              "    }\n",
              "\n",
              "    .colab-df-convert {\n",
              "      background-color: #E8F0FE;\n",
              "      border: none;\n",
              "      border-radius: 50%;\n",
              "      cursor: pointer;\n",
              "      display: none;\n",
              "      fill: #1967D2;\n",
              "      height: 32px;\n",
              "      padding: 0 0 0 0;\n",
              "      width: 32px;\n",
              "    }\n",
              "\n",
              "    .colab-df-convert:hover {\n",
              "      background-color: #E2EBFA;\n",
              "      box-shadow: 0px 1px 2px rgba(60, 64, 67, 0.3), 0px 1px 3px 1px rgba(60, 64, 67, 0.15);\n",
              "      fill: #174EA6;\n",
              "    }\n",
              "\n",
              "    [theme=dark] .colab-df-convert {\n",
              "      background-color: #3B4455;\n",
              "      fill: #D2E3FC;\n",
              "    }\n",
              "\n",
              "    [theme=dark] .colab-df-convert:hover {\n",
              "      background-color: #434B5C;\n",
              "      box-shadow: 0px 1px 3px 1px rgba(0, 0, 0, 0.15);\n",
              "      filter: drop-shadow(0px 1px 2px rgba(0, 0, 0, 0.3));\n",
              "      fill: #FFFFFF;\n",
              "    }\n",
              "  </style>\n",
              "\n",
              "      <script>\n",
              "        const buttonEl =\n",
              "          document.querySelector('#df-36e7ebdb-f08f-4076-9af1-144343f7b7a2 button.colab-df-convert');\n",
              "        buttonEl.style.display =\n",
              "          google.colab.kernel.accessAllowed ? 'block' : 'none';\n",
              "\n",
              "        async function convertToInteractive(key) {\n",
              "          const element = document.querySelector('#df-36e7ebdb-f08f-4076-9af1-144343f7b7a2');\n",
              "          const dataTable =\n",
              "            await google.colab.kernel.invokeFunction('convertToInteractive',\n",
              "                                                     [key], {});\n",
              "          if (!dataTable) return;\n",
              "\n",
              "          const docLinkHtml = 'Like what you see? Visit the ' +\n",
              "            '<a target=\"_blank\" href=https://colab.research.google.com/notebooks/data_table.ipynb>data table notebook</a>'\n",
              "            + ' to learn more about interactive tables.';\n",
              "          element.innerHTML = '';\n",
              "          dataTable['output_type'] = 'display_data';\n",
              "          await google.colab.output.renderOutput(dataTable, element);\n",
              "          const docLink = document.createElement('div');\n",
              "          docLink.innerHTML = docLinkHtml;\n",
              "          element.appendChild(docLink);\n",
              "        }\n",
              "      </script>\n",
              "    </div>\n",
              "  </div>\n"
            ]
          },
          "metadata": {},
          "execution_count": 31
        }
      ]
    },
    {
      "cell_type": "code",
      "source": [
        "test_df1 =  df1.loc[df1['year'].isin([2017])].reset_index()\n",
        "test_df1.drop('index', axis=1, inplace=True)\n",
        "test_df1"
      ],
      "metadata": {
        "colab": {
          "base_uri": "https://localhost:8080/",
          "height": 661
        },
        "id": "bUD96oHWROe-",
        "outputId": "a3689735-ceda-42bf-a343-508ba63ff1a4"
      },
      "execution_count": 32,
      "outputs": [
        {
          "output_type": "execute_result",
          "data": {
            "text/plain": [
              "       item       date  year  month  day  day_of_week  day_of_year  \\\n",
              "0         1 2017-01-01  2017      1    1            6            1   \n",
              "1         1 2017-01-02  2017      1    2            0            2   \n",
              "2         1 2017-01-03  2017      1    3            1            3   \n",
              "3         1 2017-01-04  2017      1    4            2            4   \n",
              "4         1 2017-01-05  2017      1    5            3            5   \n",
              "...     ...        ...   ...    ...  ...          ...          ...   \n",
              "18245    50 2017-12-27  2017     12   27            2          361   \n",
              "18246    50 2017-12-28  2017     12   28            3          362   \n",
              "18247    50 2017-12-29  2017     12   29            4          363   \n",
              "18248    50 2017-12-30  2017     12   30            5          364   \n",
              "18249    50 2017-12-31  2017     12   31            6          365   \n",
              "\n",
              "       days_in_month  quarter  is_leap_year  is_month_start  is_month_end  \\\n",
              "0                 31        1             0               1             0   \n",
              "1                 31        1             0               0             0   \n",
              "2                 31        1             0               0             0   \n",
              "3                 31        1             0               0             0   \n",
              "4                 31        1             0               0             0   \n",
              "...              ...      ...           ...             ...           ...   \n",
              "18245             31        4             0               0             0   \n",
              "18246             31        4             0               0             0   \n",
              "18247             31        4             0               0             0   \n",
              "18248             31        4             0               0             0   \n",
              "18249             31        4             0               0             1   \n",
              "\n",
              "       is_quarter_start  is_quarter_end  is_year_start  is_year_end  target  \n",
              "0                     1               0              1            0   16992  \n",
              "1                     0               0              0            0   16957  \n",
              "2                     0               0              0            0   16884  \n",
              "3                     0               0              0            0   16791  \n",
              "4                     0               0              0            0   16710  \n",
              "...                 ...             ...            ...          ...     ...  \n",
              "18245                 0               0              0            0   31899  \n",
              "18246                 0               0              0            0   31002  \n",
              "18247                 0               0              0            0   30365  \n",
              "18248                 0               0              0            0   29664  \n",
              "18249                 0               1              0            1   28936  \n",
              "\n",
              "[18250 rows x 17 columns]"
            ],
            "text/html": [
              "\n",
              "\n",
              "  <div id=\"df-15509ec5-f9f5-4ca5-9e2c-ed31ab7781af\">\n",
              "    <div class=\"colab-df-container\">\n",
              "      <div>\n",
              "<style scoped>\n",
              "    .dataframe tbody tr th:only-of-type {\n",
              "        vertical-align: middle;\n",
              "    }\n",
              "\n",
              "    .dataframe tbody tr th {\n",
              "        vertical-align: top;\n",
              "    }\n",
              "\n",
              "    .dataframe thead th {\n",
              "        text-align: right;\n",
              "    }\n",
              "</style>\n",
              "<table border=\"1\" class=\"dataframe\">\n",
              "  <thead>\n",
              "    <tr style=\"text-align: right;\">\n",
              "      <th></th>\n",
              "      <th>item</th>\n",
              "      <th>date</th>\n",
              "      <th>year</th>\n",
              "      <th>month</th>\n",
              "      <th>day</th>\n",
              "      <th>day_of_week</th>\n",
              "      <th>day_of_year</th>\n",
              "      <th>days_in_month</th>\n",
              "      <th>quarter</th>\n",
              "      <th>is_leap_year</th>\n",
              "      <th>is_month_start</th>\n",
              "      <th>is_month_end</th>\n",
              "      <th>is_quarter_start</th>\n",
              "      <th>is_quarter_end</th>\n",
              "      <th>is_year_start</th>\n",
              "      <th>is_year_end</th>\n",
              "      <th>target</th>\n",
              "    </tr>\n",
              "  </thead>\n",
              "  <tbody>\n",
              "    <tr>\n",
              "      <th>0</th>\n",
              "      <td>1</td>\n",
              "      <td>2017-01-01</td>\n",
              "      <td>2017</td>\n",
              "      <td>1</td>\n",
              "      <td>1</td>\n",
              "      <td>6</td>\n",
              "      <td>1</td>\n",
              "      <td>31</td>\n",
              "      <td>1</td>\n",
              "      <td>0</td>\n",
              "      <td>1</td>\n",
              "      <td>0</td>\n",
              "      <td>1</td>\n",
              "      <td>0</td>\n",
              "      <td>1</td>\n",
              "      <td>0</td>\n",
              "      <td>16992</td>\n",
              "    </tr>\n",
              "    <tr>\n",
              "      <th>1</th>\n",
              "      <td>1</td>\n",
              "      <td>2017-01-02</td>\n",
              "      <td>2017</td>\n",
              "      <td>1</td>\n",
              "      <td>2</td>\n",
              "      <td>0</td>\n",
              "      <td>2</td>\n",
              "      <td>31</td>\n",
              "      <td>1</td>\n",
              "      <td>0</td>\n",
              "      <td>0</td>\n",
              "      <td>0</td>\n",
              "      <td>0</td>\n",
              "      <td>0</td>\n",
              "      <td>0</td>\n",
              "      <td>0</td>\n",
              "      <td>16957</td>\n",
              "    </tr>\n",
              "    <tr>\n",
              "      <th>2</th>\n",
              "      <td>1</td>\n",
              "      <td>2017-01-03</td>\n",
              "      <td>2017</td>\n",
              "      <td>1</td>\n",
              "      <td>3</td>\n",
              "      <td>1</td>\n",
              "      <td>3</td>\n",
              "      <td>31</td>\n",
              "      <td>1</td>\n",
              "      <td>0</td>\n",
              "      <td>0</td>\n",
              "      <td>0</td>\n",
              "      <td>0</td>\n",
              "      <td>0</td>\n",
              "      <td>0</td>\n",
              "      <td>0</td>\n",
              "      <td>16884</td>\n",
              "    </tr>\n",
              "    <tr>\n",
              "      <th>3</th>\n",
              "      <td>1</td>\n",
              "      <td>2017-01-04</td>\n",
              "      <td>2017</td>\n",
              "      <td>1</td>\n",
              "      <td>4</td>\n",
              "      <td>2</td>\n",
              "      <td>4</td>\n",
              "      <td>31</td>\n",
              "      <td>1</td>\n",
              "      <td>0</td>\n",
              "      <td>0</td>\n",
              "      <td>0</td>\n",
              "      <td>0</td>\n",
              "      <td>0</td>\n",
              "      <td>0</td>\n",
              "      <td>0</td>\n",
              "      <td>16791</td>\n",
              "    </tr>\n",
              "    <tr>\n",
              "      <th>4</th>\n",
              "      <td>1</td>\n",
              "      <td>2017-01-05</td>\n",
              "      <td>2017</td>\n",
              "      <td>1</td>\n",
              "      <td>5</td>\n",
              "      <td>3</td>\n",
              "      <td>5</td>\n",
              "      <td>31</td>\n",
              "      <td>1</td>\n",
              "      <td>0</td>\n",
              "      <td>0</td>\n",
              "      <td>0</td>\n",
              "      <td>0</td>\n",
              "      <td>0</td>\n",
              "      <td>0</td>\n",
              "      <td>0</td>\n",
              "      <td>16710</td>\n",
              "    </tr>\n",
              "    <tr>\n",
              "      <th>...</th>\n",
              "      <td>...</td>\n",
              "      <td>...</td>\n",
              "      <td>...</td>\n",
              "      <td>...</td>\n",
              "      <td>...</td>\n",
              "      <td>...</td>\n",
              "      <td>...</td>\n",
              "      <td>...</td>\n",
              "      <td>...</td>\n",
              "      <td>...</td>\n",
              "      <td>...</td>\n",
              "      <td>...</td>\n",
              "      <td>...</td>\n",
              "      <td>...</td>\n",
              "      <td>...</td>\n",
              "      <td>...</td>\n",
              "      <td>...</td>\n",
              "    </tr>\n",
              "    <tr>\n",
              "      <th>18245</th>\n",
              "      <td>50</td>\n",
              "      <td>2017-12-27</td>\n",
              "      <td>2017</td>\n",
              "      <td>12</td>\n",
              "      <td>27</td>\n",
              "      <td>2</td>\n",
              "      <td>361</td>\n",
              "      <td>31</td>\n",
              "      <td>4</td>\n",
              "      <td>0</td>\n",
              "      <td>0</td>\n",
              "      <td>0</td>\n",
              "      <td>0</td>\n",
              "      <td>0</td>\n",
              "      <td>0</td>\n",
              "      <td>0</td>\n",
              "      <td>31899</td>\n",
              "    </tr>\n",
              "    <tr>\n",
              "      <th>18246</th>\n",
              "      <td>50</td>\n",
              "      <td>2017-12-28</td>\n",
              "      <td>2017</td>\n",
              "      <td>12</td>\n",
              "      <td>28</td>\n",
              "      <td>3</td>\n",
              "      <td>362</td>\n",
              "      <td>31</td>\n",
              "      <td>4</td>\n",
              "      <td>0</td>\n",
              "      <td>0</td>\n",
              "      <td>0</td>\n",
              "      <td>0</td>\n",
              "      <td>0</td>\n",
              "      <td>0</td>\n",
              "      <td>0</td>\n",
              "      <td>31002</td>\n",
              "    </tr>\n",
              "    <tr>\n",
              "      <th>18247</th>\n",
              "      <td>50</td>\n",
              "      <td>2017-12-29</td>\n",
              "      <td>2017</td>\n",
              "      <td>12</td>\n",
              "      <td>29</td>\n",
              "      <td>4</td>\n",
              "      <td>363</td>\n",
              "      <td>31</td>\n",
              "      <td>4</td>\n",
              "      <td>0</td>\n",
              "      <td>0</td>\n",
              "      <td>0</td>\n",
              "      <td>0</td>\n",
              "      <td>0</td>\n",
              "      <td>0</td>\n",
              "      <td>0</td>\n",
              "      <td>30365</td>\n",
              "    </tr>\n",
              "    <tr>\n",
              "      <th>18248</th>\n",
              "      <td>50</td>\n",
              "      <td>2017-12-30</td>\n",
              "      <td>2017</td>\n",
              "      <td>12</td>\n",
              "      <td>30</td>\n",
              "      <td>5</td>\n",
              "      <td>364</td>\n",
              "      <td>31</td>\n",
              "      <td>4</td>\n",
              "      <td>0</td>\n",
              "      <td>0</td>\n",
              "      <td>0</td>\n",
              "      <td>0</td>\n",
              "      <td>0</td>\n",
              "      <td>0</td>\n",
              "      <td>0</td>\n",
              "      <td>29664</td>\n",
              "    </tr>\n",
              "    <tr>\n",
              "      <th>18249</th>\n",
              "      <td>50</td>\n",
              "      <td>2017-12-31</td>\n",
              "      <td>2017</td>\n",
              "      <td>12</td>\n",
              "      <td>31</td>\n",
              "      <td>6</td>\n",
              "      <td>365</td>\n",
              "      <td>31</td>\n",
              "      <td>4</td>\n",
              "      <td>0</td>\n",
              "      <td>0</td>\n",
              "      <td>1</td>\n",
              "      <td>0</td>\n",
              "      <td>1</td>\n",
              "      <td>0</td>\n",
              "      <td>1</td>\n",
              "      <td>28936</td>\n",
              "    </tr>\n",
              "  </tbody>\n",
              "</table>\n",
              "<p>18250 rows × 17 columns</p>\n",
              "</div>\n",
              "      <button class=\"colab-df-convert\" onclick=\"convertToInteractive('df-15509ec5-f9f5-4ca5-9e2c-ed31ab7781af')\"\n",
              "              title=\"Convert this dataframe to an interactive table.\"\n",
              "              style=\"display:none;\">\n",
              "\n",
              "  <svg xmlns=\"http://www.w3.org/2000/svg\" height=\"24px\"viewBox=\"0 0 24 24\"\n",
              "       width=\"24px\">\n",
              "    <path d=\"M0 0h24v24H0V0z\" fill=\"none\"/>\n",
              "    <path d=\"M18.56 5.44l.94 2.06.94-2.06 2.06-.94-2.06-.94-.94-2.06-.94 2.06-2.06.94zm-11 1L8.5 8.5l.94-2.06 2.06-.94-2.06-.94L8.5 2.5l-.94 2.06-2.06.94zm10 10l.94 2.06.94-2.06 2.06-.94-2.06-.94-.94-2.06-.94 2.06-2.06.94z\"/><path d=\"M17.41 7.96l-1.37-1.37c-.4-.4-.92-.59-1.43-.59-.52 0-1.04.2-1.43.59L10.3 9.45l-7.72 7.72c-.78.78-.78 2.05 0 2.83L4 21.41c.39.39.9.59 1.41.59.51 0 1.02-.2 1.41-.59l7.78-7.78 2.81-2.81c.8-.78.8-2.07 0-2.86zM5.41 20L4 18.59l7.72-7.72 1.47 1.35L5.41 20z\"/>\n",
              "  </svg>\n",
              "      </button>\n",
              "\n",
              "\n",
              "\n",
              "    <div id=\"df-0f4069ef-1002-4648-9dfd-a7dc2676cd29\">\n",
              "      <button class=\"colab-df-quickchart\" onclick=\"quickchart('df-0f4069ef-1002-4648-9dfd-a7dc2676cd29')\"\n",
              "              title=\"Suggest charts.\"\n",
              "              style=\"display:none;\">\n",
              "\n",
              "<svg xmlns=\"http://www.w3.org/2000/svg\" height=\"24px\"viewBox=\"0 0 24 24\"\n",
              "     width=\"24px\">\n",
              "    <g>\n",
              "        <path d=\"M19 3H5c-1.1 0-2 .9-2 2v14c0 1.1.9 2 2 2h14c1.1 0 2-.9 2-2V5c0-1.1-.9-2-2-2zM9 17H7v-7h2v7zm4 0h-2V7h2v10zm4 0h-2v-4h2v4z\"/>\n",
              "    </g>\n",
              "</svg>\n",
              "      </button>\n",
              "    </div>\n",
              "\n",
              "<style>\n",
              "  .colab-df-quickchart {\n",
              "    background-color: #E8F0FE;\n",
              "    border: none;\n",
              "    border-radius: 50%;\n",
              "    cursor: pointer;\n",
              "    display: none;\n",
              "    fill: #1967D2;\n",
              "    height: 32px;\n",
              "    padding: 0 0 0 0;\n",
              "    width: 32px;\n",
              "  }\n",
              "\n",
              "  .colab-df-quickchart:hover {\n",
              "    background-color: #E2EBFA;\n",
              "    box-shadow: 0px 1px 2px rgba(60, 64, 67, 0.3), 0px 1px 3px 1px rgba(60, 64, 67, 0.15);\n",
              "    fill: #174EA6;\n",
              "  }\n",
              "\n",
              "  [theme=dark] .colab-df-quickchart {\n",
              "    background-color: #3B4455;\n",
              "    fill: #D2E3FC;\n",
              "  }\n",
              "\n",
              "  [theme=dark] .colab-df-quickchart:hover {\n",
              "    background-color: #434B5C;\n",
              "    box-shadow: 0px 1px 3px 1px rgba(0, 0, 0, 0.15);\n",
              "    filter: drop-shadow(0px 1px 2px rgba(0, 0, 0, 0.3));\n",
              "    fill: #FFFFFF;\n",
              "  }\n",
              "</style>\n",
              "\n",
              "    <script>\n",
              "      async function quickchart(key) {\n",
              "        const containerElement = document.querySelector('#' + key);\n",
              "        const charts = await google.colab.kernel.invokeFunction(\n",
              "            'suggestCharts', [key], {});\n",
              "      }\n",
              "    </script>\n",
              "\n",
              "      <script>\n",
              "\n",
              "function displayQuickchartButton(domScope) {\n",
              "  let quickchartButtonEl =\n",
              "    domScope.querySelector('#df-0f4069ef-1002-4648-9dfd-a7dc2676cd29 button.colab-df-quickchart');\n",
              "  quickchartButtonEl.style.display =\n",
              "    google.colab.kernel.accessAllowed ? 'block' : 'none';\n",
              "}\n",
              "\n",
              "        displayQuickchartButton(document);\n",
              "      </script>\n",
              "      <style>\n",
              "    .colab-df-container {\n",
              "      display:flex;\n",
              "      flex-wrap:wrap;\n",
              "      gap: 12px;\n",
              "    }\n",
              "\n",
              "    .colab-df-convert {\n",
              "      background-color: #E8F0FE;\n",
              "      border: none;\n",
              "      border-radius: 50%;\n",
              "      cursor: pointer;\n",
              "      display: none;\n",
              "      fill: #1967D2;\n",
              "      height: 32px;\n",
              "      padding: 0 0 0 0;\n",
              "      width: 32px;\n",
              "    }\n",
              "\n",
              "    .colab-df-convert:hover {\n",
              "      background-color: #E2EBFA;\n",
              "      box-shadow: 0px 1px 2px rgba(60, 64, 67, 0.3), 0px 1px 3px 1px rgba(60, 64, 67, 0.15);\n",
              "      fill: #174EA6;\n",
              "    }\n",
              "\n",
              "    [theme=dark] .colab-df-convert {\n",
              "      background-color: #3B4455;\n",
              "      fill: #D2E3FC;\n",
              "    }\n",
              "\n",
              "    [theme=dark] .colab-df-convert:hover {\n",
              "      background-color: #434B5C;\n",
              "      box-shadow: 0px 1px 3px 1px rgba(0, 0, 0, 0.15);\n",
              "      filter: drop-shadow(0px 1px 2px rgba(0, 0, 0, 0.3));\n",
              "      fill: #FFFFFF;\n",
              "    }\n",
              "  </style>\n",
              "\n",
              "      <script>\n",
              "        const buttonEl =\n",
              "          document.querySelector('#df-15509ec5-f9f5-4ca5-9e2c-ed31ab7781af button.colab-df-convert');\n",
              "        buttonEl.style.display =\n",
              "          google.colab.kernel.accessAllowed ? 'block' : 'none';\n",
              "\n",
              "        async function convertToInteractive(key) {\n",
              "          const element = document.querySelector('#df-15509ec5-f9f5-4ca5-9e2c-ed31ab7781af');\n",
              "          const dataTable =\n",
              "            await google.colab.kernel.invokeFunction('convertToInteractive',\n",
              "                                                     [key], {});\n",
              "          if (!dataTable) return;\n",
              "\n",
              "          const docLinkHtml = 'Like what you see? Visit the ' +\n",
              "            '<a target=\"_blank\" href=https://colab.research.google.com/notebooks/data_table.ipynb>data table notebook</a>'\n",
              "            + ' to learn more about interactive tables.';\n",
              "          element.innerHTML = '';\n",
              "          dataTable['output_type'] = 'display_data';\n",
              "          await google.colab.output.renderOutput(dataTable, element);\n",
              "          const docLink = document.createElement('div');\n",
              "          docLink.innerHTML = docLinkHtml;\n",
              "          element.appendChild(docLink);\n",
              "        }\n",
              "      </script>\n",
              "    </div>\n",
              "  </div>\n"
            ]
          },
          "metadata": {},
          "execution_count": 32
        }
      ]
    },
    {
      "cell_type": "markdown",
      "source": [
        "# Linear Regression item-wise"
      ],
      "metadata": {
        "id": "bkc9l6RlAQmD"
      }
    },
    {
      "cell_type": "code",
      "source": [
        "from sklearn.linear_model import LinearRegression\n",
        "from sklearn.metrics import r2_score\n",
        "\n",
        "r2_lr = []\n",
        "\n",
        "for i in range(1,51):\n",
        "  x_tr = train_df1.loc[train_df1['item'] == i, ['item','year','month','day','day_of_week','day_of_year','days_in_month','quarter','is_leap_year','is_month_start','is_month_end','is_quarter_start','is_quarter_end','is_year_start','is_year_end']]\n",
        "  y_tr = train_df1.loc[train_df1['item'] == i, 'target']\n",
        "  x_te = test_df1.loc[test_df1['item'] == i, ['item','year','month','day','day_of_week','day_of_year','days_in_month','quarter','is_leap_year','is_month_start','is_month_end','is_quarter_start','is_quarter_end','is_year_start','is_year_end']]\n",
        "  y_te = test_df1.loc[test_df1['item'] == i, 'target']\n",
        "  model1 = LinearRegression()\n",
        "  model1.fit(x_tr,y_tr)\n",
        "  print('For item ', i, 'r2 score is', r2_score(y_te, model1.predict(x_te)))\n",
        "  r2_lr.append(r2_score(y_te, model1.predict(x_te)))\n",
        "\n",
        "print('Average r2 score of all 50 items: ', round(st.mean(r2_lr),2))\n",
        "\n"
      ],
      "metadata": {
        "colab": {
          "base_uri": "https://localhost:8080/"
        },
        "id": "OvOq7ZD61Te_",
        "outputId": "04f86d1d-905f-4608-9bbd-f41c0982e11e"
      },
      "execution_count": 48,
      "outputs": [
        {
          "output_type": "stream",
          "name": "stdout",
          "text": [
            "For item  1 r2 score is 0.060664076537892075\n",
            "For item  2 r2 score is 0.13765553941127473\n",
            "For item  3 r2 score is 0.1208920576964706\n",
            "For item  4 r2 score is 0.10981248877747918\n",
            "For item  5 r2 score is 0.16428359444255491\n",
            "For item  6 r2 score is 0.14005875205485563\n",
            "For item  7 r2 score is 0.13522181175449866\n",
            "For item  8 r2 score is 0.1541764511107344\n",
            "For item  9 r2 score is 0.06478235246472719\n",
            "For item  10 r2 score is 0.14750430975025386\n",
            "For item  11 r2 score is 0.17730858666381444\n",
            "For item  12 r2 score is 0.14176766289344145\n",
            "For item  13 r2 score is 0.1334281971865312\n",
            "For item  14 r2 score is 0.1389801211427687\n",
            "For item  15 r2 score is 0.11819394230611635\n",
            "For item  16 r2 score is 0.11043865410211706\n",
            "For item  17 r2 score is 0.12943507046396352\n",
            "For item  18 r2 score is 0.15799433826463727\n",
            "For item  19 r2 score is 0.15625416703803252\n",
            "For item  20 r2 score is 0.07102582061456986\n",
            "For item  21 r2 score is 0.17177375405573425\n",
            "For item  22 r2 score is 0.11554103537783889\n",
            "For item  23 r2 score is 0.14530741788037238\n",
            "For item  24 r2 score is 0.13814623027878636\n",
            "For item  25 r2 score is 0.11982219837475694\n",
            "For item  26 r2 score is 0.13728577822728205\n",
            "For item  27 r2 score is 0.13188064004196165\n",
            "For item  28 r2 score is 0.12620247509294313\n",
            "For item  29 r2 score is 0.1402073127979988\n",
            "For item  30 r2 score is 0.12819797396988653\n",
            "For item  31 r2 score is 0.11887642786170727\n",
            "For item  32 r2 score is 0.138075957401118\n",
            "For item  33 r2 score is 0.11656823055154619\n",
            "For item  34 r2 score is 0.0627246174853634\n",
            "For item  35 r2 score is 0.13016638682652182\n",
            "For item  36 r2 score is 0.10595469570902938\n",
            "For item  37 r2 score is 0.10701142296718646\n",
            "For item  38 r2 score is 0.1535747218891248\n",
            "For item  39 r2 score is 0.13610756273874036\n",
            "For item  40 r2 score is 0.20689544457319708\n",
            "For item  41 r2 score is 0.11119265041275084\n",
            "For item  42 r2 score is 0.06801985191378068\n",
            "For item  43 r2 score is 0.16371512508826902\n",
            "For item  44 r2 score is 0.1426472699350283\n",
            "For item  45 r2 score is 0.14355423967266978\n",
            "For item  46 r2 score is 0.15424374197987667\n",
            "For item  47 r2 score is 0.161143469816052\n",
            "For item  48 r2 score is 0.12103971445786355\n",
            "For item  49 r2 score is 0.058021556417574116\n",
            "For item  50 r2 score is 0.12168627589409986\n",
            "Average r2 score of all 50 items:  0.13\n"
          ]
        }
      ]
    },
    {
      "cell_type": "markdown",
      "source": [
        "# Linear Regression for overall data"
      ],
      "metadata": {
        "id": "0GBN5mU4AaT6"
      }
    },
    {
      "cell_type": "code",
      "source": [
        "x_train = train_df1[['item','year','month','day','day_of_week','day_of_year','days_in_month','quarter','is_leap_year','is_month_start','is_month_end','is_quarter_start','is_quarter_end','is_year_start','is_year_end']].values\n",
        "y_train = train_df1['target'].values\n",
        "x_test = test_df1[['item','year','month','day','day_of_week','day_of_year','days_in_month','quarter','is_leap_year','is_month_start','is_month_end','is_quarter_start','is_quarter_end','is_year_start','is_year_end']].values\n",
        "y_test = test_df1['target'].values\n",
        "model_lr = LinearRegression()\n",
        "model_lr.fit(x_train,y_train)\n",
        "print('r2 score: ', r2_score(y_test, model_lr.predict(x_test)))\n"
      ],
      "metadata": {
        "colab": {
          "base_uri": "https://localhost:8080/"
        },
        "id": "krn5JWoN24DI",
        "outputId": "497817de-6ac1-49d8-d9e3-343e4ec818ff"
      },
      "execution_count": 49,
      "outputs": [
        {
          "output_type": "stream",
          "name": "stdout",
          "text": [
            "r2 score:  0.0277015827881244\n"
          ]
        }
      ]
    },
    {
      "cell_type": "markdown",
      "source": [
        "# KNN Algorithm item-wise"
      ],
      "metadata": {
        "id": "sm7ODDK0Atro"
      }
    },
    {
      "cell_type": "code",
      "source": [
        "from sklearn.neighbors import KNeighborsRegressor\n",
        "from sklearn.preprocessing import StandardScaler\n",
        "import math\n",
        "\n",
        "r2_knn = []\n",
        "\n",
        "for i in range(1,51):\n",
        "  x_tr = train_df1.loc[train_df1['item'] == i, ['item','year','month','day','day_of_week','day_of_year','days_in_month','quarter','is_leap_year','is_month_start','is_month_end','is_quarter_start','is_quarter_end','is_year_start','is_year_end']]\n",
        "  y_tr = train_df1.loc[train_df1['item'] == i, 'target']\n",
        "  x_te = test_df1.loc[test_df1['item'] == i, ['item','year','month','day','day_of_week','day_of_year','days_in_month','quarter','is_leap_year','is_month_start','is_month_end','is_quarter_start','is_quarter_end','is_year_start','is_year_end']]\n",
        "  y_te = test_df1.loc[test_df1['item'] == i, 'target']\n",
        "  scaler = StandardScaler()\n",
        "  x_tr = scaler.fit_transform(x_tr)\n",
        "  x_te = scaler.transform(x_te)\n",
        "  k = round(math.sqrt(len(x_tr))/2)\n",
        "  model2 = KNeighborsRegressor(k)\n",
        "  model2.fit(x_tr,y_tr)\n",
        "  print('For item ', i, 'r2 score is', r2_score(y_te, model2.predict(x_te)))\n",
        "  r2_knn.append(r2_score(y_te, model2.predict(x_te)))\n",
        "\n",
        "print('Average r2 score of all 50 items: ', round(st.mean(r2_knn),2))"
      ],
      "metadata": {
        "colab": {
          "base_uri": "https://localhost:8080/"
        },
        "id": "BqBIsVlq8ZDi",
        "outputId": "06757366-0a2a-4ccb-991b-2759bf1e0aaa"
      },
      "execution_count": 60,
      "outputs": [
        {
          "output_type": "stream",
          "name": "stdout",
          "text": [
            "For item  1 r2 score is 0.47136616555143707\n",
            "For item  2 r2 score is 0.4404193502110836\n",
            "For item  3 r2 score is 0.44813692033831576\n",
            "For item  4 r2 score is 0.5000065712397601\n",
            "For item  5 r2 score is 0.41294046958585584\n",
            "For item  6 r2 score is 0.446903355105448\n",
            "For item  7 r2 score is 0.4658610047164661\n",
            "For item  8 r2 score is 0.4272182282083775\n",
            "For item  9 r2 score is 0.46600602075046005\n",
            "For item  10 r2 score is 0.4193051745050427\n",
            "For item  11 r2 score is 0.434596018535772\n",
            "For item  12 r2 score is 0.4557408170709474\n",
            "For item  13 r2 score is 0.4334397761772878\n",
            "For item  14 r2 score is 0.4334174281942762\n",
            "For item  15 r2 score is 0.4472775796909715\n",
            "For item  16 r2 score is 0.4427565420515128\n",
            "For item  17 r2 score is 0.4499420136914305\n",
            "For item  18 r2 score is 0.43695434706185565\n",
            "For item  19 r2 score is 0.4160637841770275\n",
            "For item  20 r2 score is 0.4572786698627652\n",
            "For item  21 r2 score is 0.43459364091453745\n",
            "For item  22 r2 score is 0.45288894595362317\n",
            "For item  23 r2 score is 0.4258178396083673\n",
            "For item  24 r2 score is 0.4498889988865089\n",
            "For item  25 r2 score is 0.45098737672220224\n",
            "For item  26 r2 score is 0.41680536496893095\n",
            "For item  27 r2 score is 0.45543257676692694\n",
            "For item  28 r2 score is 0.44469119555961667\n",
            "For item  29 r2 score is 0.43753646800842594\n",
            "For item  30 r2 score is 0.4400231734848695\n",
            "For item  31 r2 score is 0.444688121767436\n",
            "For item  32 r2 score is 0.4402822146132144\n",
            "For item  33 r2 score is 0.4468540085962598\n",
            "For item  34 r2 score is 0.45301238624716755\n",
            "For item  35 r2 score is 0.4293228800658956\n",
            "For item  36 r2 score is 0.4569540711226151\n",
            "For item  37 r2 score is 0.4157829762350571\n",
            "For item  38 r2 score is 0.4417854198112482\n",
            "For item  39 r2 score is 0.4232666659985309\n",
            "For item  40 r2 score is 0.4074348107907124\n",
            "For item  41 r2 score is 0.45387118737307197\n",
            "For item  42 r2 score is 0.47718840680820995\n",
            "For item  43 r2 score is 0.42083602641511253\n",
            "For item  44 r2 score is 0.45100228591042835\n",
            "For item  45 r2 score is 0.434367250203213\n",
            "For item  46 r2 score is 0.44555555192434804\n",
            "For item  47 r2 score is 0.4275610422998669\n",
            "For item  48 r2 score is 0.4385534884981902\n",
            "For item  49 r2 score is 0.46261707443848754\n",
            "For item  50 r2 score is 0.45288166136270624\n",
            "Average r2 score of all 50 items:  0.44\n"
          ]
        }
      ]
    },
    {
      "cell_type": "code",
      "source": [
        "from sklearn.neighbors import KNeighborsRegressor\n",
        "from sklearn.preprocessing import StandardScaler\n",
        "import math\n",
        "\n",
        "r2_knn_2 = []\n",
        "\n",
        "for i in range(1,51):\n",
        "  x_tr = train_df1.loc[train_df1['item'] == i, ['item','year','month','day','day_of_week','day_of_year','days_in_month','quarter','is_leap_year','is_month_start','is_month_end','is_quarter_start','is_quarter_end','is_year_start','is_year_end']]\n",
        "  y_tr = train_df1.loc[train_df1['item'] == i, 'target']\n",
        "  x_te = test_df1.loc[test_df1['item'] == i, ['item','year','month','day','day_of_week','day_of_year','days_in_month','quarter','is_leap_year','is_month_start','is_month_end','is_quarter_start','is_quarter_end','is_year_start','is_year_end']]\n",
        "  y_te = test_df1.loc[test_df1['item'] == i, 'target']\n",
        "  scaler = StandardScaler()\n",
        "  x_tr = scaler.fit_transform(x_tr)\n",
        "  x_te = scaler.transform(x_te)\n",
        "  model2 = KNeighborsRegressor()\n",
        "  model2.fit(x_tr,y_tr)\n",
        "  print('For item ', i, 'r2 score is', r2_score(y_te, model2.predict(x_te)))\n",
        "  r2_knn_2.append(r2_score(y_te, model2.predict(x_te)))\n",
        "\n",
        "print('Average r2 score of all 50 items: ', round(st.mean(r2_knn_2),2))"
      ],
      "metadata": {
        "colab": {
          "base_uri": "https://localhost:8080/"
        },
        "id": "85-bs6v5Bq-k",
        "outputId": "8c1155e5-b020-4df3-bfec-28541e9a4a5d"
      },
      "execution_count": 62,
      "outputs": [
        {
          "output_type": "stream",
          "name": "stdout",
          "text": [
            "For item  1 r2 score is 0.5909700788170276\n",
            "For item  2 r2 score is 0.5587451462572823\n",
            "For item  3 r2 score is 0.5668921346870253\n",
            "For item  4 r2 score is 0.6179539644704599\n",
            "For item  5 r2 score is 0.5290750368284638\n",
            "For item  6 r2 score is 0.563477011914866\n",
            "For item  7 r2 score is 0.5855954102922352\n",
            "For item  8 r2 score is 0.5454576177537823\n",
            "For item  9 r2 score is 0.5867547936425248\n",
            "For item  10 r2 score is 0.5349716970095928\n",
            "For item  11 r2 score is 0.5516122342118277\n",
            "For item  12 r2 score is 0.5728772862011984\n",
            "For item  13 r2 score is 0.5520907007874891\n",
            "For item  14 r2 score is 0.5505731981749211\n",
            "For item  15 r2 score is 0.567340999316539\n",
            "For item  16 r2 score is 0.5626502316785287\n",
            "For item  17 r2 score is 0.5695531555095981\n",
            "For item  18 r2 score is 0.5550902549761524\n",
            "For item  19 r2 score is 0.5292560195593701\n",
            "For item  20 r2 score is 0.5771132642752557\n",
            "For item  21 r2 score is 0.5495246718923703\n",
            "For item  22 r2 score is 0.5713964180426603\n",
            "For item  23 r2 score is 0.5435311979899375\n",
            "For item  24 r2 score is 0.5669845692984338\n",
            "For item  25 r2 score is 0.5667711646095894\n",
            "For item  26 r2 score is 0.535657584443927\n",
            "For item  27 r2 score is 0.5702053987062488\n",
            "For item  28 r2 score is 0.5643103342025251\n",
            "For item  29 r2 score is 0.5539080789705042\n",
            "For item  30 r2 score is 0.5602411997573433\n",
            "For item  31 r2 score is 0.5627923772252557\n",
            "For item  32 r2 score is 0.5600757456707419\n",
            "For item  33 r2 score is 0.563138566083691\n",
            "For item  34 r2 score is 0.5755034560437917\n",
            "For item  35 r2 score is 0.5491520003183487\n",
            "For item  36 r2 score is 0.5740370273867104\n",
            "For item  37 r2 score is 0.53351266055982\n",
            "For item  38 r2 score is 0.5585637158850913\n",
            "For item  39 r2 score is 0.5404978701944507\n",
            "For item  40 r2 score is 0.5226854111898378\n",
            "For item  41 r2 score is 0.568503734276083\n",
            "For item  42 r2 score is 0.5940942736690258\n",
            "For item  43 r2 score is 0.5373421189890554\n",
            "For item  44 r2 score is 0.5707137868558698\n",
            "For item  45 r2 score is 0.5527172847458464\n",
            "For item  46 r2 score is 0.5619570522539399\n",
            "For item  47 r2 score is 0.5413203813660545\n",
            "For item  48 r2 score is 0.5555042829460527\n",
            "For item  49 r2 score is 0.5822162333833134\n",
            "For item  50 r2 score is 0.5733208923663269\n",
            "Average r2 score of all 50 items:  0.56\n"
          ]
        }
      ]
    },
    {
      "cell_type": "markdown",
      "source": [
        "# KNN Algorithm for the overall data"
      ],
      "metadata": {
        "id": "US4QL3jYA3Cy"
      }
    },
    {
      "cell_type": "code",
      "source": [
        "x_train = train_df1[['item','year','month','day','day_of_week','day_of_year','days_in_month','quarter','is_leap_year','is_month_start','is_month_end','is_quarter_start','is_quarter_end','is_year_start','is_year_end']].values\n",
        "y_train = train_df1['target'].values\n",
        "x_test = test_df1[['item','year','month','day','day_of_week','day_of_year','days_in_month','quarter','is_leap_year','is_month_start','is_month_end','is_quarter_start','is_quarter_end','is_year_start','is_year_end']].values\n",
        "y_test = test_df1['target'].values\n",
        "scaler = StandardScaler()\n",
        "x_train = scaler.fit_transform(x_train)\n",
        "x_test = scaler.transform(x_test)\n",
        "model_knn = KNeighborsRegressor()\n",
        "model_knn.fit(x_train,y_train)\n",
        "print('r2 score: ', r2_score(y_test, model_knn.predict(x_test)))"
      ],
      "metadata": {
        "colab": {
          "base_uri": "https://localhost:8080/"
        },
        "id": "P8eB6Kb7BubK",
        "outputId": "2ec0c0ed-453b-477b-f8f3-ce04484509af"
      },
      "execution_count": 63,
      "outputs": [
        {
          "output_type": "stream",
          "name": "stdout",
          "text": [
            "r2 score:  0.22219419452977285\n"
          ]
        }
      ]
    },
    {
      "cell_type": "markdown",
      "source": [
        "# Decision Tree item-wise"
      ],
      "metadata": {
        "id": "CX97cpMwBGzr"
      }
    },
    {
      "cell_type": "code",
      "source": [
        "from sklearn.tree import DecisionTreeRegressor\n",
        "\n",
        "r2_dt = []\n",
        "\n",
        "for i in range(1,51):\n",
        "  x_tr = train_df1.loc[train_df1['item'] == i, ['item','year','month','day','day_of_week','day_of_year','days_in_month','quarter','is_leap_year','is_month_start','is_month_end','is_quarter_start','is_quarter_end','is_year_start','is_year_end']]\n",
        "  y_tr = train_df1.loc[train_df1['item'] == i, 'target']\n",
        "  x_te = test_df1.loc[test_df1['item'] == i, ['item','year','month','day','day_of_week','day_of_year','days_in_month','quarter','is_leap_year','is_month_start','is_month_end','is_quarter_start','is_quarter_end','is_year_start','is_year_end']]\n",
        "  y_te = test_df1.loc[test_df1['item'] == i, 'target']\n",
        "  model3 = DecisionTreeRegressor(max_depth = round(np.log(15)/np.log(2)), random_state=1)\n",
        "  model3.fit(x_tr,y_tr)\n",
        "  print('For item ', i, 'r2 score is', r2_score(y_te, model3.predict(x_te)))\n",
        "  r2_dt.append(r2_score(y_te, model3.predict(x_te)))\n",
        "\n",
        "print('Average r2 score of all 50 items: ', round(st.mean(r2_dt),2))"
      ],
      "metadata": {
        "colab": {
          "base_uri": "https://localhost:8080/"
        },
        "id": "JB0jjeuUCigu",
        "outputId": "506a8b3f-a428-411d-dce1-1ce192daca73"
      },
      "execution_count": 67,
      "outputs": [
        {
          "output_type": "stream",
          "name": "stdout",
          "text": [
            "For item  1 r2 score is 0.6201794104961836\n",
            "For item  2 r2 score is 0.37906571968808556\n",
            "For item  3 r2 score is 0.5643494376264544\n",
            "For item  4 r2 score is 0.6173987287621344\n",
            "For item  5 r2 score is 0.35227094821141003\n",
            "For item  6 r2 score is 0.41334318602645725\n",
            "For item  7 r2 score is 0.5898040309322927\n",
            "For item  8 r2 score is 0.5711952148198478\n",
            "For item  9 r2 score is 0.5773741952294966\n",
            "For item  10 r2 score is 0.5584951939344271\n",
            "For item  11 r2 score is 0.3601632280078496\n",
            "For item  12 r2 score is 0.5818239548132292\n",
            "For item  13 r2 score is 0.5736703905245892\n",
            "For item  14 r2 score is 0.36207979170974613\n",
            "For item  15 r2 score is 0.5819581888647745\n",
            "For item  16 r2 score is 0.5633111026170252\n",
            "For item  17 r2 score is 0.43575539891890513\n",
            "For item  18 r2 score is 0.5709158610589217\n",
            "For item  19 r2 score is 0.3538133436325587\n",
            "For item  20 r2 score is 0.5750329759535865\n",
            "For item  21 r2 score is 0.36789478705990586\n",
            "For item  22 r2 score is 0.5913285777067734\n",
            "For item  23 r2 score is 0.3544801000631159\n",
            "For item  24 r2 score is 0.586001021851176\n",
            "For item  25 r2 score is 0.39073986512303405\n",
            "For item  26 r2 score is 0.5661687162013538\n",
            "For item  27 r2 score is 0.6199694599847856\n",
            "For item  28 r2 score is 0.6092315122529761\n",
            "For item  29 r2 score is 0.5717998962839704\n",
            "For item  30 r2 score is 0.37871111367296084\n",
            "For item  31 r2 score is 0.7337126987948306\n",
            "For item  32 r2 score is 0.5767994858456608\n",
            "For item  33 r2 score is 0.5703671374752711\n",
            "For item  34 r2 score is 0.6027599891243431\n",
            "For item  35 r2 score is 0.574136630773631\n",
            "For item  36 r2 score is 0.6188218013183051\n",
            "For item  37 r2 score is 0.5775170623829475\n",
            "For item  38 r2 score is 0.3804878272934239\n",
            "For item  39 r2 score is 0.36099687833987304\n",
            "For item  40 r2 score is 0.3503459590968556\n",
            "For item  41 r2 score is 0.5682824949732599\n",
            "For item  42 r2 score is 0.5961819635240192\n",
            "For item  43 r2 score is 0.552632578411638\n",
            "For item  44 r2 score is 0.39240656078886293\n",
            "For item  45 r2 score is 0.5681757179081983\n",
            "For item  46 r2 score is 0.5823822268595162\n",
            "For item  47 r2 score is 0.5547331329297691\n",
            "For item  48 r2 score is 0.5950074017535055\n",
            "For item  49 r2 score is 0.6082918388225148\n",
            "For item  50 r2 score is 0.5843287196104514\n",
            "Average r2 score of all 50 items:  0.52\n"
          ]
        }
      ]
    },
    {
      "cell_type": "code",
      "source": [
        "from sklearn.tree import DecisionTreeRegressor\n",
        "\n",
        "r2_dt_2 = []\n",
        "\n",
        "for i in range(1,51):\n",
        "  x_tr = train_df1.loc[train_df1['item'] == i, ['item','year','month','day','day_of_week','day_of_year','days_in_month','quarter','is_leap_year','is_month_start','is_month_end','is_quarter_start','is_quarter_end','is_year_start','is_year_end']]\n",
        "  y_tr = train_df1.loc[train_df1['item'] == i, 'target']\n",
        "  x_te = test_df1.loc[test_df1['item'] == i, ['item','year','month','day','day_of_week','day_of_year','days_in_month','quarter','is_leap_year','is_month_start','is_month_end','is_quarter_start','is_quarter_end','is_year_start','is_year_end']]\n",
        "  y_te = test_df1.loc[test_df1['item'] == i, 'target']\n",
        "  model3 = DecisionTreeRegressor(random_state=1)\n",
        "  model3.fit(x_tr,y_tr)\n",
        "  print('For item ', i, 'r2 score is', r2_score(y_te, model3.predict(x_te)))\n",
        "  r2_dt_2.append(r2_score(y_te, model3.predict(x_te)))\n",
        "\n",
        "print('Average r2 score of all 50 items: ', round(st.mean(r2_dt_2),2))"
      ],
      "metadata": {
        "colab": {
          "base_uri": "https://localhost:8080/"
        },
        "id": "3_3v6nItHGz-",
        "outputId": "98283ffd-5639-41f6-bfc8-0023db6c5877"
      },
      "execution_count": 68,
      "outputs": [
        {
          "output_type": "stream",
          "name": "stdout",
          "text": [
            "For item  1 r2 score is 0.7895698559908759\n",
            "For item  2 r2 score is 0.5869316354260716\n",
            "For item  3 r2 score is 0.6166432702285106\n",
            "For item  4 r2 score is 0.8852274365563324\n",
            "For item  5 r2 score is 0.8105078741946476\n",
            "For item  6 r2 score is 0.6231119269560319\n",
            "For item  7 r2 score is 0.6849535514148422\n",
            "For item  8 r2 score is 0.6229356921273498\n",
            "For item  9 r2 score is 0.6253306585595302\n",
            "For item  10 r2 score is 0.8095752796898196\n",
            "For item  11 r2 score is 0.6218106947776115\n",
            "For item  12 r2 score is 0.6748041430110479\n",
            "For item  13 r2 score is 0.8330540705714817\n",
            "For item  14 r2 score is 0.6173689094405312\n",
            "For item  15 r2 score is 0.8596793012451636\n",
            "For item  16 r2 score is 0.5536493381784453\n",
            "For item  17 r2 score is 0.5715597729201154\n",
            "For item  18 r2 score is 0.6116996464687179\n",
            "For item  19 r2 score is 0.6123813185654394\n",
            "For item  20 r2 score is 0.6648589751159695\n",
            "For item  21 r2 score is 0.8156633232515718\n",
            "For item  22 r2 score is 0.605466883799144\n",
            "For item  23 r2 score is 0.860385959425331\n",
            "For item  24 r2 score is 0.6343695722616274\n",
            "For item  25 r2 score is 0.6652088991254206\n",
            "For item  26 r2 score is 0.5591651012485062\n",
            "For item  27 r2 score is 0.7974399233574607\n",
            "For item  28 r2 score is 0.8492389182956925\n",
            "For item  29 r2 score is 0.6230788774733792\n",
            "For item  30 r2 score is 0.8351942251225507\n",
            "For item  31 r2 score is 0.6428539888890885\n",
            "For item  32 r2 score is 0.6105720623613444\n",
            "For item  33 r2 score is 0.8273757000724032\n",
            "For item  34 r2 score is 0.6210732808578339\n",
            "For item  35 r2 score is 0.649569239868581\n",
            "For item  36 r2 score is 0.8238280580385541\n",
            "For item  37 r2 score is 0.6377987487329554\n",
            "For item  38 r2 score is 0.6177721024334198\n",
            "For item  39 r2 score is 0.5417370815771964\n",
            "For item  40 r2 score is 0.572014528108042\n",
            "For item  41 r2 score is 0.8615159407535731\n",
            "For item  42 r2 score is 0.7338253904543026\n",
            "For item  43 r2 score is 0.774535965620444\n",
            "For item  44 r2 score is 0.841041797338473\n",
            "For item  45 r2 score is 0.8489062881411845\n",
            "For item  46 r2 score is 0.5626608701937317\n",
            "For item  47 r2 score is 0.7990399327694497\n",
            "For item  48 r2 score is 0.6259464206657117\n",
            "For item  49 r2 score is 0.6982914615640412\n",
            "For item  50 r2 score is 0.6424220105146399\n",
            "Average r2 score of all 50 items:  0.7\n"
          ]
        }
      ]
    },
    {
      "cell_type": "markdown",
      "source": [
        "# Decision Tree for the overall data"
      ],
      "metadata": {
        "id": "ONhQ5VSHBORT"
      }
    },
    {
      "cell_type": "code",
      "source": [
        "x_train = train_df1[['item','year','month','day','day_of_week','day_of_year','days_in_month','quarter','is_leap_year','is_month_start','is_month_end','is_quarter_start','is_quarter_end','is_year_start','is_year_end']].values\n",
        "y_train = train_df1['target'].values\n",
        "x_test = test_df1[['item','year','month','day','day_of_week','day_of_year','days_in_month','quarter','is_leap_year','is_month_start','is_month_end','is_quarter_start','is_quarter_end','is_year_start','is_year_end']].values\n",
        "y_test = test_df1['target'].values\n",
        "model_dt = DecisionTreeRegressor()\n",
        "model_dt.fit(x_train,y_train)\n",
        "print('r2 score: ', r2_score(y_test, model_dt.predict(x_test)))"
      ],
      "metadata": {
        "colab": {
          "base_uri": "https://localhost:8080/"
        },
        "id": "9kRvCcYBHJ4W",
        "outputId": "474e573a-4f7d-4ace-e640-a4685980ba8f"
      },
      "execution_count": 69,
      "outputs": [
        {
          "output_type": "stream",
          "name": "stdout",
          "text": [
            "r2 score:  0.9387849070275115\n"
          ]
        }
      ]
    },
    {
      "cell_type": "markdown",
      "source": [
        "# Random Forest item-wise"
      ],
      "metadata": {
        "id": "DTeoPHzvBS1o"
      }
    },
    {
      "cell_type": "code",
      "source": [
        "from sklearn.ensemble import RandomForestRegressor\n",
        "r2_rf = []\n",
        "\n",
        "for i in range(1,51):\n",
        "  x_tr = train_df1.loc[train_df1['item'] == i, ['item','year','month','day','day_of_week','day_of_year','days_in_month','quarter','is_leap_year','is_month_start','is_month_end','is_quarter_start','is_quarter_end','is_year_start','is_year_end']]\n",
        "  y_tr = train_df1.loc[train_df1['item'] == i, 'target']\n",
        "  x_te = test_df1.loc[test_df1['item'] == i, ['item','year','month','day','day_of_week','day_of_year','days_in_month','quarter','is_leap_year','is_month_start','is_month_end','is_quarter_start','is_quarter_end','is_year_start','is_year_end']]\n",
        "  y_te = test_df1.loc[test_df1['item'] == i, 'target']\n",
        "  model4 = RandomForestRegressor(max_depth = round(np.log(15)/np.log(2)), random_state=1, max_features = 'sqrt')\n",
        "  model4.fit(x_tr,y_tr)\n",
        "  print('For item ', i, 'r2 score is', r2_score(y_te, model4.predict(x_te)))\n",
        "  r2_rf.append(r2_score(y_te, model4.predict(x_te)))\n",
        "\n",
        "print('Average r2 score of all 50 items: ', round(st.mean(r2_rf),2))"
      ],
      "metadata": {
        "colab": {
          "base_uri": "https://localhost:8080/"
        },
        "id": "-4OQkATCHlCD",
        "outputId": "82b197ed-6d2a-4623-aa4e-14864162433f"
      },
      "execution_count": 70,
      "outputs": [
        {
          "output_type": "stream",
          "name": "stdout",
          "text": [
            "For item  1 r2 score is 0.27713640478938373\n",
            "For item  2 r2 score is 0.25829156004062204\n",
            "For item  3 r2 score is 0.24448596930175448\n",
            "For item  4 r2 score is 0.34001349819712634\n",
            "For item  5 r2 score is 0.22480955779098433\n",
            "For item  6 r2 score is 0.2936941168800985\n",
            "For item  7 r2 score is 0.28895812160224776\n",
            "For item  8 r2 score is 0.2644691932445038\n",
            "For item  9 r2 score is 0.2668557243855152\n",
            "For item  10 r2 score is 0.23425597265810172\n",
            "For item  11 r2 score is 0.26376376764138165\n",
            "For item  12 r2 score is 0.28331053474476564\n",
            "For item  13 r2 score is 0.24932732310850902\n",
            "For item  14 r2 score is 0.261717156336135\n",
            "For item  15 r2 score is 0.2778040539850375\n",
            "For item  16 r2 score is 0.25930078359955533\n",
            "For item  17 r2 score is 0.29443935028874946\n",
            "For item  18 r2 score is 0.26206773030193886\n",
            "For item  19 r2 score is 0.24193360701053057\n",
            "For item  20 r2 score is 0.2562165239821652\n",
            "For item  21 r2 score is 0.2765411418191315\n",
            "For item  22 r2 score is 0.2796180211893655\n",
            "For item  23 r2 score is 0.2490858602883924\n",
            "For item  24 r2 score is 0.27786633583110765\n",
            "For item  25 r2 score is 0.27822547841394496\n",
            "For item  26 r2 score is 0.2300840759993359\n",
            "For item  27 r2 score is 0.28720901772341845\n",
            "For item  28 r2 score is 0.2539870685284611\n",
            "For item  29 r2 score is 0.24977862718617083\n",
            "For item  30 r2 score is 0.26755752469728045\n",
            "For item  31 r2 score is 0.2616457577239055\n",
            "For item  32 r2 score is 0.25470986747298363\n",
            "For item  33 r2 score is 0.2502544625677421\n",
            "For item  34 r2 score is 0.26533594707309494\n",
            "For item  35 r2 score is 0.24360807986998678\n",
            "For item  36 r2 score is 0.25978723484148303\n",
            "For item  37 r2 score is 0.23793726935541526\n",
            "For item  38 r2 score is 0.26436155516283544\n",
            "For item  39 r2 score is 0.2526238607274036\n",
            "For item  40 r2 score is 0.24063496961280106\n",
            "For item  41 r2 score is 0.25404194324775475\n",
            "For item  42 r2 score is 0.27701140212373365\n",
            "For item  43 r2 score is 0.22924805692511196\n",
            "For item  44 r2 score is 0.2770728161827406\n",
            "For item  45 r2 score is 0.24902495886440834\n",
            "For item  46 r2 score is 0.27170233372253594\n",
            "For item  47 r2 score is 0.236833330004118\n",
            "For item  48 r2 score is 0.25050401669374245\n",
            "For item  49 r2 score is 0.2567058876071515\n",
            "For item  50 r2 score is 0.2898180045821811\n",
            "Average r2 score of all 50 items:  0.26\n"
          ]
        }
      ]
    },
    {
      "cell_type": "code",
      "source": [
        "from sklearn.ensemble import RandomForestRegressor\n",
        "r2_rf_2 = []\n",
        "\n",
        "for i in range(1,51):\n",
        "  x_tr = train_df1.loc[train_df1['item'] == i, ['item','year','month','day','day_of_week','day_of_year','days_in_month','quarter','is_leap_year','is_month_start','is_month_end','is_quarter_start','is_quarter_end','is_year_start','is_year_end']]\n",
        "  y_tr = train_df1.loc[train_df1['item'] == i, 'target']\n",
        "  x_te = test_df1.loc[test_df1['item'] == i, ['item','year','month','day','day_of_week','day_of_year','days_in_month','quarter','is_leap_year','is_month_start','is_month_end','is_quarter_start','is_quarter_end','is_year_start','is_year_end']]\n",
        "  y_te = test_df1.loc[test_df1['item'] == i, 'target']\n",
        "  model4 = RandomForestRegressor(random_state=1, max_features = 'sqrt')\n",
        "  model4.fit(x_tr,y_tr)\n",
        "  print('For item ', i, 'r2 score is', r2_score(y_te, model4.predict(x_te)))\n",
        "  r2_rf_2.append(r2_score(y_te, model4.predict(x_te)))\n",
        "\n",
        "print('Average r2 score of all 50 items: ', round(st.mean(r2_rf_2),2))"
      ],
      "metadata": {
        "colab": {
          "base_uri": "https://localhost:8080/"
        },
        "id": "PtXL-J8BMo5z",
        "outputId": "b7a758cf-6add-48c1-e380-99a9ad034452"
      },
      "execution_count": 71,
      "outputs": [
        {
          "output_type": "stream",
          "name": "stdout",
          "text": [
            "For item  1 r2 score is 0.673088745832735\n",
            "For item  2 r2 score is 0.6594611923109035\n",
            "For item  3 r2 score is 0.6574354440628345\n",
            "For item  4 r2 score is 0.7038761269572631\n",
            "For item  5 r2 score is 0.6564544494930249\n",
            "For item  6 r2 score is 0.6675764819177399\n",
            "For item  7 r2 score is 0.692823387323636\n",
            "For item  8 r2 score is 0.6447233531550918\n",
            "For item  9 r2 score is 0.6878562502716883\n",
            "For item  10 r2 score is 0.6368596566558025\n",
            "For item  11 r2 score is 0.6525522062589364\n",
            "For item  12 r2 score is 0.6707614478122201\n",
            "For item  13 r2 score is 0.659998506308439\n",
            "For item  14 r2 score is 0.6466441495102195\n",
            "For item  15 r2 score is 0.6509960648044009\n",
            "For item  16 r2 score is 0.6511478796112962\n",
            "For item  17 r2 score is 0.6826346738726914\n",
            "For item  18 r2 score is 0.6710011322728493\n",
            "For item  19 r2 score is 0.6240471226699662\n",
            "For item  20 r2 score is 0.6720497190380277\n",
            "For item  21 r2 score is 0.6500120705132326\n",
            "For item  22 r2 score is 0.6709187128657687\n",
            "For item  23 r2 score is 0.6649881611142103\n",
            "For item  24 r2 score is 0.6738526188231839\n",
            "For item  25 r2 score is 0.6812509137404638\n",
            "For item  26 r2 score is 0.6531756501827356\n",
            "For item  27 r2 score is 0.6679593610243075\n",
            "For item  28 r2 score is 0.6616937604895259\n",
            "For item  29 r2 score is 0.6530773689490207\n",
            "For item  30 r2 score is 0.6605947395493361\n",
            "For item  31 r2 score is 0.6709751664174801\n",
            "For item  32 r2 score is 0.6600578369666037\n",
            "For item  33 r2 score is 0.6660212922910128\n",
            "For item  34 r2 score is 0.6636176275321435\n",
            "For item  35 r2 score is 0.6793298599543942\n",
            "For item  36 r2 score is 0.6805386178237004\n",
            "For item  37 r2 score is 0.6359555946810513\n",
            "For item  38 r2 score is 0.6553810627482055\n",
            "For item  39 r2 score is 0.6666140245728436\n",
            "For item  40 r2 score is 0.6585593996630548\n",
            "For item  41 r2 score is 0.6774454859617242\n",
            "For item  42 r2 score is 0.6884874960752432\n",
            "For item  43 r2 score is 0.6434984025735424\n",
            "For item  44 r2 score is 0.6706129425874638\n",
            "For item  45 r2 score is 0.6385109488014458\n",
            "For item  46 r2 score is 0.6697342375507537\n",
            "For item  47 r2 score is 0.6484395120833872\n",
            "For item  48 r2 score is 0.6613782838766249\n",
            "For item  49 r2 score is 0.6599848991767854\n",
            "For item  50 r2 score is 0.678306286773015\n",
            "Average r2 score of all 50 items:  0.66\n"
          ]
        }
      ]
    },
    {
      "cell_type": "code",
      "source": [
        "from sklearn.ensemble import RandomForestRegressor\n",
        "r2_rf_3 = []\n",
        "\n",
        "for i in range(1,51):\n",
        "  x_tr = train_df1.loc[train_df1['item'] == i, ['item','year','month','day','day_of_week','day_of_year','days_in_month','quarter','is_leap_year','is_month_start','is_month_end','is_quarter_start','is_quarter_end','is_year_start','is_year_end']]\n",
        "  y_tr = train_df1.loc[train_df1['item'] == i, 'target']\n",
        "  x_te = test_df1.loc[test_df1['item'] == i, ['item','year','month','day','day_of_week','day_of_year','days_in_month','quarter','is_leap_year','is_month_start','is_month_end','is_quarter_start','is_quarter_end','is_year_start','is_year_end']]\n",
        "  y_te = test_df1.loc[test_df1['item'] == i, 'target']\n",
        "  model4 = RandomForestRegressor(random_state=1)\n",
        "  model4.fit(x_tr,y_tr)\n",
        "  print('For item ', i, 'r2 score is', r2_score(y_te, model4.predict(x_te)))\n",
        "  r2_rf_3.append(r2_score(y_te, model4.predict(x_te)))\n",
        "\n",
        "print('Average r2 score of all 50 items: ', round(st.mean(r2_rf_3),2))"
      ],
      "metadata": {
        "colab": {
          "base_uri": "https://localhost:8080/"
        },
        "id": "wHe1GTfAM3ep",
        "outputId": "9af51248-a8a7-4e09-d890-13c98863e352"
      },
      "execution_count": 72,
      "outputs": [
        {
          "output_type": "stream",
          "name": "stdout",
          "text": [
            "For item  1 r2 score is 0.7713820922237005\n",
            "For item  2 r2 score is 0.7655521590585328\n",
            "For item  3 r2 score is 0.7575406149922649\n",
            "For item  4 r2 score is 0.8036818580297094\n",
            "For item  5 r2 score is 0.7611110539201249\n",
            "For item  6 r2 score is 0.763800648379463\n",
            "For item  7 r2 score is 0.7940324427432842\n",
            "For item  8 r2 score is 0.7423933168048346\n",
            "For item  9 r2 score is 0.7472386981934097\n",
            "For item  10 r2 score is 0.740649150011775\n",
            "For item  11 r2 score is 0.7752027062422155\n",
            "For item  12 r2 score is 0.765041063813722\n",
            "For item  13 r2 score is 0.77706754328074\n",
            "For item  14 r2 score is 0.7505249596422191\n",
            "For item  15 r2 score is 0.7733908124981188\n",
            "For item  16 r2 score is 0.7537116693261998\n",
            "For item  17 r2 score is 0.7956301820382536\n",
            "For item  18 r2 score is 0.7595271061464134\n",
            "For item  19 r2 score is 0.7310817185638825\n",
            "For item  20 r2 score is 0.7599566754220664\n",
            "For item  21 r2 score is 0.766898233934149\n",
            "For item  22 r2 score is 0.7668291612450508\n",
            "For item  23 r2 score is 0.7433816848659555\n",
            "For item  24 r2 score is 0.7535930257632358\n",
            "For item  25 r2 score is 0.7980749901355777\n",
            "For item  26 r2 score is 0.7343518518637393\n",
            "For item  27 r2 score is 0.7741777137903788\n",
            "For item  28 r2 score is 0.757991332115109\n",
            "For item  29 r2 score is 0.7411390302340272\n",
            "For item  30 r2 score is 0.7645297071611594\n",
            "For item  31 r2 score is 0.7475574393569038\n",
            "For item  32 r2 score is 0.7575387698516391\n",
            "For item  33 r2 score is 0.7495432618861682\n",
            "For item  34 r2 score is 0.780584673758307\n",
            "For item  35 r2 score is 0.7538241125108449\n",
            "For item  36 r2 score is 0.7691425883641975\n",
            "For item  37 r2 score is 0.7339715580723518\n",
            "For item  38 r2 score is 0.7697605198160966\n",
            "For item  39 r2 score is 0.7541103810063391\n",
            "For item  40 r2 score is 0.7698643633019462\n",
            "For item  41 r2 score is 0.7654558042702645\n",
            "For item  42 r2 score is 0.78341582371001\n",
            "For item  43 r2 score is 0.748094969415024\n",
            "For item  44 r2 score is 0.7618891273970491\n",
            "For item  45 r2 score is 0.7517550247016606\n",
            "For item  46 r2 score is 0.7746397928361521\n",
            "For item  47 r2 score is 0.7705244273961152\n",
            "For item  48 r2 score is 0.7516896359308166\n",
            "For item  49 r2 score is 0.7648286916086705\n",
            "For item  50 r2 score is 0.7736322772163525\n",
            "Average r2 score of all 50 items:  0.76\n"
          ]
        }
      ]
    },
    {
      "cell_type": "markdown",
      "source": [
        "# Random Forest for the overall data"
      ],
      "metadata": {
        "id": "ynfd78nXBZ2h"
      }
    },
    {
      "cell_type": "code",
      "source": [
        "x_train = train_df1[['item','year','month','day','day_of_week','day_of_year','days_in_month','quarter','is_leap_year','is_month_start','is_month_end','is_quarter_start','is_quarter_end','is_year_start','is_year_end']].values\n",
        "y_train = train_df1['target'].values\n",
        "x_test = test_df1[['item','year','month','day','day_of_week','day_of_year','days_in_month','quarter','is_leap_year','is_month_start','is_month_end','is_quarter_start','is_quarter_end','is_year_start','is_year_end']].values\n",
        "y_test = test_df1['target'].values\n",
        "model_rf = RandomForestRegressor(random_state=1)\n",
        "model_rf.fit(x_train,y_train)\n",
        "print('r2 score: ', r2_score(y_test, model_rf.predict(x_test)))"
      ],
      "metadata": {
        "colab": {
          "base_uri": "https://localhost:8080/"
        },
        "id": "urSu11ILNDmP",
        "outputId": "613a72bb-7300-4d31-af0c-98832cf67e15"
      },
      "execution_count": 73,
      "outputs": [
        {
          "output_type": "stream",
          "name": "stdout",
          "text": [
            "r2 score:  0.9517946801484832\n"
          ]
        }
      ]
    },
    {
      "cell_type": "markdown",
      "source": [
        "# Gradient Boosting item-wise"
      ],
      "metadata": {
        "id": "26kG0bxdBerq"
      }
    },
    {
      "cell_type": "code",
      "source": [
        "from sklearn.ensemble import GradientBoostingRegressor\n",
        "r2_gb = []\n",
        "\n",
        "for i in range(1,51):\n",
        "  x_tr = train_df1.loc[train_df1['item'] == i, ['item','year','month','day','day_of_week','day_of_year','days_in_month','quarter','is_leap_year','is_month_start','is_month_end','is_quarter_start','is_quarter_end','is_year_start','is_year_end']]\n",
        "  y_tr = train_df1.loc[train_df1['item'] == i, 'target']\n",
        "  x_te = test_df1.loc[test_df1['item'] == i, ['item','year','month','day','day_of_week','day_of_year','days_in_month','quarter','is_leap_year','is_month_start','is_month_end','is_quarter_start','is_quarter_end','is_year_start','is_year_end']]\n",
        "  y_te = test_df1.loc[test_df1['item'] == i, 'target']\n",
        "  model5 = GradientBoostingRegressor()\n",
        "  model5.fit(x_tr,y_tr)\n",
        "  print('For item ', i, 'r2 score is', r2_score(y_te, model5.predict(x_te)))\n",
        "  r2_gb.append(r2_score(y_te, model5.predict(x_te)))\n",
        "\n",
        "print('Average r2 score of all 50 items: ', round(st.mean(r2_gb),2))"
      ],
      "metadata": {
        "colab": {
          "base_uri": "https://localhost:8080/"
        },
        "id": "ZiFPM2qRNW6_",
        "outputId": "0147a999-e868-49aa-e7f4-cedb658dbc34"
      },
      "execution_count": 79,
      "outputs": [
        {
          "output_type": "stream",
          "name": "stdout",
          "text": [
            "For item  1 r2 score is 0.7593008435050138\n",
            "For item  2 r2 score is 0.7298856633961831\n",
            "For item  3 r2 score is 0.7760707144345181\n",
            "For item  4 r2 score is 0.8274928469053053\n",
            "For item  5 r2 score is 0.754309941365565\n",
            "For item  6 r2 score is 0.7472272448300703\n",
            "For item  7 r2 score is 0.7609912033678675\n",
            "For item  8 r2 score is 0.684220771122371\n",
            "For item  9 r2 score is 0.7760068913382567\n",
            "For item  10 r2 score is 0.7308628616954411\n",
            "For item  11 r2 score is 0.7296824360809648\n",
            "For item  12 r2 score is 0.7754335132714558\n",
            "For item  13 r2 score is 0.7805480069706056\n",
            "For item  14 r2 score is 0.7514542880303825\n",
            "For item  15 r2 score is 0.7804822632756997\n",
            "For item  16 r2 score is 0.724166582259832\n",
            "For item  17 r2 score is 0.754295247325028\n",
            "For item  18 r2 score is 0.7873094029018122\n",
            "For item  19 r2 score is 0.7776962427268667\n",
            "For item  20 r2 score is 0.8025376526135689\n",
            "For item  21 r2 score is 0.7383063749152818\n",
            "For item  22 r2 score is 0.7437040584302796\n",
            "For item  23 r2 score is 0.7330179248468442\n",
            "For item  24 r2 score is 0.7784899959577201\n",
            "For item  25 r2 score is 0.7849386693487457\n",
            "For item  26 r2 score is 0.8047264841467379\n",
            "For item  27 r2 score is 0.6991648590736531\n",
            "For item  28 r2 score is 0.7217644412655606\n",
            "For item  29 r2 score is 0.7290221863784767\n",
            "For item  30 r2 score is 0.7435309543723873\n",
            "For item  31 r2 score is 0.7499695674110141\n",
            "For item  32 r2 score is 0.793949864495881\n",
            "For item  33 r2 score is 0.7605488553549958\n",
            "For item  34 r2 score is 0.784500038646452\n",
            "For item  35 r2 score is 0.790210958892942\n",
            "For item  36 r2 score is 0.7730639660081995\n",
            "For item  37 r2 score is 0.6862170516794416\n",
            "For item  38 r2 score is 0.7779738561660092\n",
            "For item  39 r2 score is 0.699111814952172\n",
            "For item  40 r2 score is 0.7888714627896528\n",
            "For item  41 r2 score is 0.7768687699081369\n",
            "For item  42 r2 score is 0.7504516745487722\n",
            "For item  43 r2 score is 0.7812874068177692\n",
            "For item  44 r2 score is 0.6991701116296434\n",
            "For item  45 r2 score is 0.6993313716246266\n",
            "For item  46 r2 score is 0.7793687567720944\n",
            "For item  47 r2 score is 0.761323605794004\n",
            "For item  48 r2 score is 0.763428104747977\n",
            "For item  49 r2 score is 0.7727700207297767\n",
            "For item  50 r2 score is 0.7592657100176177\n",
            "Average r2 score of all 50 items:  0.76\n"
          ]
        }
      ]
    },
    {
      "cell_type": "markdown",
      "source": [
        "# Gradient boosting for the overall data"
      ],
      "metadata": {
        "id": "RIrYGYcqBlTu"
      }
    },
    {
      "cell_type": "code",
      "source": [
        "x_train = train_df1[['item','year','month','day','day_of_week','day_of_year','days_in_month','quarter','is_leap_year','is_month_start','is_month_end','is_quarter_start','is_quarter_end','is_year_start','is_year_end']].values\n",
        "y_train = train_df1['target'].values\n",
        "x_test = test_df1[['item','year','month','day','day_of_week','day_of_year','days_in_month','quarter','is_leap_year','is_month_start','is_month_end','is_quarter_start','is_quarter_end','is_year_start','is_year_end']].values\n",
        "y_test = test_df1['target'].values\n",
        "model_gb = GradientBoostingRegressor(random_state=1)\n",
        "model_gb.fit(x_train,y_train)\n",
        "print('r2 score: ', r2_score(y_test, model_gb.predict(x_test)))"
      ],
      "metadata": {
        "colab": {
          "base_uri": "https://localhost:8080/"
        },
        "id": "WJqm5ArTSJcF",
        "outputId": "8cf4768b-332a-4518-80ab-869eeb5a3a43"
      },
      "execution_count": 75,
      "outputs": [
        {
          "output_type": "stream",
          "name": "stdout",
          "text": [
            "r2 score:  0.7367448752545578\n"
          ]
        }
      ]
    },
    {
      "cell_type": "markdown",
      "source": [
        "# Extreme Gradient Boosting item-wise"
      ],
      "metadata": {
        "id": "KexQ7_Q6Bp5e"
      }
    },
    {
      "cell_type": "code",
      "source": [
        "import xgboost as xgb\n",
        "r2_xgb = []\n",
        "\n",
        "for i in range(1,51):\n",
        "  x_tr = train_df1.loc[train_df1['item'] == i, ['item','year','month','day','day_of_week','day_of_year','days_in_month','quarter','is_leap_year','is_month_start','is_month_end','is_quarter_start','is_quarter_end','is_year_start','is_year_end']]\n",
        "  y_tr = train_df1.loc[train_df1['item'] == i, 'target']\n",
        "  x_te = test_df1.loc[test_df1['item'] == i, ['item','year','month','day','day_of_week','day_of_year','days_in_month','quarter','is_leap_year','is_month_start','is_month_end','is_quarter_start','is_quarter_end','is_year_start','is_year_end']]\n",
        "  y_te = test_df1.loc[test_df1['item'] == i, 'target']\n",
        "  model6 = xgb.XGBRegressor(colsample_bytree=0.4, random_state=1, verbosity=0)\n",
        "  model6.fit(x_tr,y_tr)\n",
        "  print('For item ', i, 'r2 score is', r2_score(y_te, model6.predict(x_te)))\n",
        "  r2_xgb.append(r2_score(y_te, model6.predict(x_te)))\n",
        "\n",
        "print('Average r2 score of all 50 items: ', round(st.mean(r2_xgb),2))"
      ],
      "metadata": {
        "colab": {
          "base_uri": "https://localhost:8080/"
        },
        "id": "OU_hn0RISdyE",
        "outputId": "c95699fb-7506-4081-dcfa-d3e7a87c707a"
      },
      "execution_count": 76,
      "outputs": [
        {
          "output_type": "stream",
          "name": "stdout",
          "text": [
            "For item  1 r2 score is 0.6900842268140743\n",
            "For item  2 r2 score is 0.684484772912639\n",
            "For item  3 r2 score is 0.667917748035161\n",
            "For item  4 r2 score is 0.7218480336154377\n",
            "For item  5 r2 score is 0.67007335266201\n",
            "For item  6 r2 score is 0.6920796391814539\n",
            "For item  7 r2 score is 0.6969516171281881\n",
            "For item  8 r2 score is 0.670648141344921\n",
            "For item  9 r2 score is 0.6821481372513166\n",
            "For item  10 r2 score is 0.6581252324972721\n",
            "For item  11 r2 score is 0.6860471862051126\n",
            "For item  12 r2 score is 0.6885743764370096\n",
            "For item  13 r2 score is 0.6775929096038904\n",
            "For item  14 r2 score is 0.6805649598871584\n",
            "For item  15 r2 score is 0.6825588601464296\n",
            "For item  16 r2 score is 0.6590233129228044\n",
            "For item  17 r2 score is 0.7055851937416204\n",
            "For item  18 r2 score is 0.6800933585180495\n",
            "For item  19 r2 score is 0.6566882665922351\n",
            "For item  20 r2 score is 0.6740714522453137\n",
            "For item  21 r2 score is 0.6823079258851021\n",
            "For item  22 r2 score is 0.6828464279497668\n",
            "For item  23 r2 score is 0.675374051795642\n",
            "For item  24 r2 score is 0.6896343688897983\n",
            "For item  25 r2 score is 0.6972560576209368\n",
            "For item  26 r2 score is 0.6644033898953928\n",
            "For item  27 r2 score is 0.6961226538143681\n",
            "For item  28 r2 score is 0.6781789154301541\n",
            "For item  29 r2 score is 0.6726952771354711\n",
            "For item  30 r2 score is 0.6828938245997571\n",
            "For item  31 r2 score is 0.6810356043330832\n",
            "For item  32 r2 score is 0.6629842968799733\n",
            "For item  33 r2 score is 0.671108609100783\n",
            "For item  34 r2 score is 0.6657450233514532\n",
            "For item  35 r2 score is 0.6702273252450255\n",
            "For item  36 r2 score is 0.6893026228965135\n",
            "For item  37 r2 score is 0.664833326677053\n",
            "For item  38 r2 score is 0.6821601420564\n",
            "For item  39 r2 score is 0.6724957542164983\n",
            "For item  40 r2 score is 0.6814127962792921\n",
            "For item  41 r2 score is 0.6795385577690967\n",
            "For item  42 r2 score is 0.6913390000095387\n",
            "For item  43 r2 score is 0.6566500493601679\n",
            "For item  44 r2 score is 0.6932168429714176\n",
            "For item  45 r2 score is 0.6707100123003382\n",
            "For item  46 r2 score is 0.6896078673102572\n",
            "For item  47 r2 score is 0.6681338810271376\n",
            "For item  48 r2 score is 0.6574693880201123\n",
            "For item  49 r2 score is 0.6696338025638421\n",
            "For item  50 r2 score is 0.6896166952612421\n",
            "Average r2 score of all 50 items:  0.68\n"
          ]
        }
      ]
    },
    {
      "cell_type": "code",
      "source": [
        "import xgboost as xgb\n",
        "r2_xgb_2 = []\n",
        "\n",
        "for i in range(1,51):\n",
        "  x_tr = train_df1.loc[train_df1['item'] == i, ['item','year','month','day','day_of_week','day_of_year','days_in_month','quarter','is_leap_year','is_month_start','is_month_end','is_quarter_start','is_quarter_end','is_year_start','is_year_end']]\n",
        "  y_tr = train_df1.loc[train_df1['item'] == i, 'target']\n",
        "  x_te = test_df1.loc[test_df1['item'] == i, ['item','year','month','day','day_of_week','day_of_year','days_in_month','quarter','is_leap_year','is_month_start','is_month_end','is_quarter_start','is_quarter_end','is_year_start','is_year_end']]\n",
        "  y_te = test_df1.loc[test_df1['item'] == i, 'target']\n",
        "  model6 = xgb.XGBRegressor()\n",
        "  model6.fit(x_tr,y_tr)\n",
        "  print('For item ', i, 'r2 score is', r2_score(y_te, model6.predict(x_te)))\n",
        "  r2_xgb_2.append(r2_score(y_te, model6.predict(x_te)))\n",
        "\n",
        "print('Average r2 score of all 50 items: ', round(st.mean(r2_xgb_2),2))"
      ],
      "metadata": {
        "colab": {
          "base_uri": "https://localhost:8080/"
        },
        "id": "Dsh29QaFU6TY",
        "outputId": "2a54a423-241c-47ec-bf51-0c5999bb98fb"
      },
      "execution_count": 35,
      "outputs": [
        {
          "output_type": "stream",
          "name": "stdout",
          "text": [
            "For item  1 r2 score is 0.8487970511217298\n",
            "For item  2 r2 score is 0.8563358229178415\n",
            "For item  3 r2 score is 0.8472967729773816\n",
            "For item  4 r2 score is 0.8636289250037708\n",
            "For item  5 r2 score is 0.8487467101304338\n",
            "For item  6 r2 score is 0.8546078438038143\n",
            "For item  7 r2 score is 0.8577183880114647\n",
            "For item  8 r2 score is 0.8536684645046322\n",
            "For item  9 r2 score is 0.840742758226647\n",
            "For item  10 r2 score is 0.8388664569481306\n",
            "For item  11 r2 score is 0.8649436899164913\n",
            "For item  12 r2 score is 0.8567401746083027\n",
            "For item  13 r2 score is 0.8527695792523119\n",
            "For item  14 r2 score is 0.8588996143637324\n",
            "For item  15 r2 score is 0.8512681049609401\n",
            "For item  16 r2 score is 0.8328012394639385\n",
            "For item  17 r2 score is 0.8601879114851386\n",
            "For item  18 r2 score is 0.8511442621033112\n",
            "For item  19 r2 score is 0.835626409403109\n",
            "For item  20 r2 score is 0.8455047793799598\n",
            "For item  21 r2 score is 0.8526843504520477\n",
            "For item  22 r2 score is 0.8472948124295288\n",
            "For item  23 r2 score is 0.8529295665938682\n",
            "For item  24 r2 score is 0.8595162336947033\n",
            "For item  25 r2 score is 0.8634817981008396\n",
            "For item  26 r2 score is 0.8413419162208523\n",
            "For item  27 r2 score is 0.8455726286581711\n",
            "For item  28 r2 score is 0.8467946185439554\n",
            "For item  29 r2 score is 0.8525916831496693\n",
            "For item  30 r2 score is 0.8475160336638324\n",
            "For item  31 r2 score is 0.8518524708578225\n",
            "For item  32 r2 score is 0.8516408214541752\n",
            "For item  33 r2 score is 0.8418071711439618\n",
            "For item  34 r2 score is 0.8400005288778726\n",
            "For item  35 r2 score is 0.847129102154511\n",
            "For item  36 r2 score is 0.8607193909590457\n",
            "For item  37 r2 score is 0.8415103661668171\n",
            "For item  38 r2 score is 0.8589392130296496\n",
            "For item  39 r2 score is 0.8504905133862442\n",
            "For item  40 r2 score is 0.8625263718085376\n",
            "For item  41 r2 score is 0.8518545484351558\n",
            "For item  42 r2 score is 0.8497594747138415\n",
            "For item  43 r2 score is 0.8418441421234919\n",
            "For item  44 r2 score is 0.8590668937217659\n",
            "For item  45 r2 score is 0.8463941620070783\n",
            "For item  46 r2 score is 0.8566096075568347\n",
            "For item  47 r2 score is 0.8451705362873472\n",
            "For item  48 r2 score is 0.840538614171895\n",
            "For item  49 r2 score is 0.8353995552281481\n",
            "For item  50 r2 score is 0.8526413120453039\n",
            "Average r2 score of all 50 items:  0.85\n"
          ]
        }
      ]
    },
    {
      "cell_type": "markdown",
      "source": [
        "# Extreme Gradient Boosting for the overall data"
      ],
      "metadata": {
        "id": "9bSf6a3MBwR1"
      }
    },
    {
      "cell_type": "code",
      "source": [
        "x_train = train_df1[['item','year','month','day','day_of_week','day_of_year','days_in_month','quarter','is_leap_year','is_month_start','is_month_end','is_quarter_start','is_quarter_end','is_year_start','is_year_end']].values\n",
        "y_train = train_df1['target'].values\n",
        "x_test = test_df1[['item','year','month','day','day_of_week','day_of_year','days_in_month','quarter','is_leap_year','is_month_start','is_month_end','is_quarter_start','is_quarter_end','is_year_start','is_year_end']].values\n",
        "y_test = test_df1['target'].values\n",
        "model_xgb = xgb.XGBRegressor()\n",
        "model_xgb.fit(x_train,y_train)\n",
        "print('r2 score: ', r2_score(y_test, model_xgb.predict(x_test)))"
      ],
      "metadata": {
        "colab": {
          "base_uri": "https://localhost:8080/"
        },
        "id": "7uYEBGThVGfH",
        "outputId": "cbc9e22d-2fe6-4c59-c668-642f2fdb6aff"
      },
      "execution_count": 42,
      "outputs": [
        {
          "output_type": "stream",
          "name": "stdout",
          "text": [
            "r2 score:  0.9673469386109872\n"
          ]
        }
      ]
    }
  ]
}